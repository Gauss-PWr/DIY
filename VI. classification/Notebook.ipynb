{
 "cells": [
  {
   "cell_type": "markdown",
   "id": "61ef22bd",
   "metadata": {},
   "source": [
    "# Classification"
   ]
  },
  {
   "cell_type": "markdown",
   "id": "a894f083",
   "metadata": {},
   "source": [
    "## Definition"
   ]
  },
  {
   "cell_type": "markdown",
   "id": "72594bcb",
   "metadata": {},
   "source": [
    "\n",
    "\n",
    "$X_{i\\cdot} = (x_{i1},\\ldots,x_{im})$ - single observation \\\n",
    "$X = (X_{1\\cdot},\\ldots,X_{n\\cdot})^T = \\begin{bmatrix}x_{11}&x_{12}&\\cdots &x_{1m}\\\\\n",
    "x_{21} & x_{22} &\\cdots &x_{2m} \\\\\n",
    "\\vdots & \\vdots & \\ddots & \\vdots \\\\ \n",
    "x_{n1} & x_{n2} &\\cdots &x_{nm}\\end{bmatrix}$ - dataset \\\n",
    "$C_1,\\ldots,C_k$ - possible classes \\\n",
    "$P\\left(C=C_i|X=x\\right)=p_i$ - conditional probability / model \\\n",
    "$C = \\operatorname{argmax}_{c\\in\\{C_1,\\ldots,C_k\\}}{P(c|X=x)}$ - predicted class"
   ]
  },
  {
   "cell_type": "code",
   "execution_count": 16,
   "id": "a6d38078",
   "metadata": {},
   "outputs": [],
   "source": [
    "import numpy as np"
   ]
  },
  {
   "cell_type": "code",
   "execution_count": null,
   "id": "e2dbfc4d",
   "metadata": {},
   "outputs": [],
   "source": []
  },
  {
   "cell_type": "code",
   "execution_count": null,
   "id": "00f76246",
   "metadata": {},
   "outputs": [],
   "source": []
  },
  {
   "cell_type": "code",
   "execution_count": null,
   "id": "e5badfac",
   "metadata": {},
   "outputs": [],
   "source": []
  },
  {
   "cell_type": "code",
   "execution_count": 17,
   "id": "28401ed1",
   "metadata": {},
   "outputs": [],
   "source": [
    "import pandas as pd"
   ]
  },
  {
   "cell_type": "code",
   "execution_count": null,
   "id": "a08af74d",
   "metadata": {},
   "outputs": [],
   "source": []
  },
  {
   "cell_type": "code",
   "execution_count": 18,
   "id": "0ba000f0",
   "metadata": {},
   "outputs": [],
   "source": [
    "import matplotlib.pyplot as plt\n",
    "import seaborn as sns\n",
    "\n",
    "sns.set_style('darkgrid')"
   ]
  },
  {
   "cell_type": "code",
   "execution_count": null,
   "id": "ae45725a",
   "metadata": {},
   "outputs": [],
   "source": []
  },
  {
   "cell_type": "markdown",
   "id": "60a19e7f",
   "metadata": {},
   "source": [
    "## Training and Test datasets\n",
    "\n",
    "![](media\\dataset.webp)"
   ]
  },
  {
   "cell_type": "code",
   "execution_count": null,
   "id": "cf2af788",
   "metadata": {},
   "outputs": [],
   "source": []
  },
  {
   "cell_type": "code",
   "execution_count": 19,
   "id": "e22fb68f",
   "metadata": {},
   "outputs": [],
   "source": [
    "def plot_data(data, name):\n",
    "    neg_df = data.copy()\n",
    "    neg_df['negx1'] = -neg_df.x1\n",
    "    sns.scatterplot(data=data, x='x1', y='x2', hue='y')\n",
    "    sns.lineplot(data=neg_df, x='x1', y='negx1', color='r')\n",
    "    plt.title(name)\n",
    "    plt.show()"
   ]
  },
  {
   "cell_type": "code",
   "execution_count": null,
   "id": "3578f706",
   "metadata": {},
   "outputs": [],
   "source": []
  },
  {
   "cell_type": "markdown",
   "id": "5e6e5dd9",
   "metadata": {},
   "source": [
    "## Represetation"
   ]
  },
  {
   "cell_type": "markdown",
   "id": "34defedc",
   "metadata": {},
   "source": [
    "### Binary\n",
    "\n",
    "$c\\in\\left\\{C_1,C_2\\right\\}\\Rightarrow \\tilde{C_1}=0,\\:\\tilde{C_2}=1$ \\\n",
    "$\\hat{p}=P(c=C_2|X=x)$ \\\n",
    "$\\hat{c}=\\begin{cases}C_1,&\\hat{p}\\le\\frac{1}{2}\\\\C_2,&\\hat{p}>\\frac{1}{2}&\\end{cases}$"
   ]
  },
  {
   "cell_type": "markdown",
   "id": "69b2bcad",
   "metadata": {},
   "source": [
    "### Multiclass\n",
    "\n",
    "$c\\in\\{C_1,\\ldots,C_k\\}\\Rightarrow \\tilde{C_1}=(1,0,\\ldots,0),\\:\\tilde{C_2}=(0,1,\\ldots,0),\\:\\ldots,\\:\\tilde{C_k}=(0,0,\\ldots,1)$ - one hot encoding \\\n",
    "$\\hat{p_i}=P(c=C_i|X=x)$ \\\n",
    "$\\hat{p}=(p_1,p_2,\\ldots,p_k)$ \\\n",
    "$\\hat{I}=\\operatorname{argmax}_{i\\in\\{1,\\ldots,k\\}}{p_i}$ \\\n",
    "$\\hat{c}=C_{\\hat{I}}$"
   ]
  },
  {
   "cell_type": "markdown",
   "id": "2abca0b5",
   "metadata": {},
   "source": [
    "## scikit-learn\n",
    "[![](media\\sklearn.png)](https://scikit-learn.org/stable/)"
   ]
  },
  {
   "cell_type": "code",
   "execution_count": 20,
   "id": "232270a3",
   "metadata": {},
   "outputs": [
    {
     "name": "stdout",
     "output_type": "stream",
     "text": [
      "Requirement already satisfied: scikit-learn in c:\\users\\mikol\\anaconda3\\envs\\diy\\lib\\site-packages (1.0.2)\n",
      "Requirement already satisfied: joblib>=0.11 in c:\\users\\mikol\\anaconda3\\envs\\diy\\lib\\site-packages (from scikit-learn) (1.1.0)\n",
      "Requirement already satisfied: numpy>=1.14.6 in c:\\users\\mikol\\anaconda3\\envs\\diy\\lib\\site-packages (from scikit-learn) (1.21.5)\n",
      "Requirement already satisfied: threadpoolctl>=2.0.0 in c:\\users\\mikol\\anaconda3\\envs\\diy\\lib\\site-packages (from scikit-learn) (2.2.0)\n",
      "Requirement already satisfied: scipy>=1.1.0 in c:\\users\\mikol\\anaconda3\\envs\\diy\\lib\\site-packages (from scikit-learn) (1.7.3)\n"
     ]
    }
   ],
   "source": [
    "!pip install scikit-learn"
   ]
  },
  {
   "cell_type": "markdown",
   "id": "190ecd4b",
   "metadata": {},
   "source": [
    "## Algorithms\n",
    "\n",
    "![](media\\classifiers.png)"
   ]
  },
  {
   "cell_type": "code",
   "execution_count": null,
   "id": "b5932b78",
   "metadata": {},
   "outputs": [],
   "source": []
  },
  {
   "cell_type": "markdown",
   "id": "41488ccf",
   "metadata": {},
   "source": [
    "### Logistic Regression\n",
    "\n",
    "$$\\forall_{i\\in\\{1,\\ldots,n\\}}\\:p_i=\\frac{1}{1+e^{-\\left(\\beta_0+\\beta_1x_i1+\\ldots+\\beta_mx_{im}\\right)}}=\\frac{1}{1+e^{-X_{i\\cdot}\\beta}}$$\n",
    "$X=\\begin{bmatrix}x_{11}&x_{12}&\\cdots &x_{1m}\\\\\n",
    "x_{21} & x_{22} &\\cdots &x_{2m} \\\\\n",
    "\\vdots & \\vdots & \\ddots & \\vdots \\\\ \n",
    "x_{n1} & x_{n2} &\\cdots &x_{nm}\\end{bmatrix}$ \\\n",
    "$\\beta=(\\beta_0,\\ldots,\\beta_m)^T$\n",
    "![](media\\logistic_regression.png)"
   ]
  },
  {
   "cell_type": "markdown",
   "id": "8df891e0",
   "metadata": {},
   "source": [
    "$y_i\\in\\{0,1\\}$ - real \"class\" of ith observation \\\n",
    "$L=\\sum_i^n{\\left(\\hat{p_i}(1-y_i)+\\left(1-\\hat{p_i}\\right)y_i\\right)}$ - loss function \\\n",
    "$\\hat{\\beta}=\\operatorname{argmin}_{\\beta}{L}$"
   ]
  },
  {
   "cell_type": "markdown",
   "id": "b3931cb5",
   "metadata": {},
   "source": [
    "#### How to minimize the LOSS?\n",
    "#### Gradient Descent!\n",
    "![](media\\gradient_descent.png)\n",
    "More about Gradient Descent next time"
   ]
  },
  {
   "cell_type": "code",
   "execution_count": 21,
   "id": "97733e6c",
   "metadata": {},
   "outputs": [],
   "source": [
    "from sklearn.linear_model import LogisticRegression"
   ]
  },
  {
   "cell_type": "code",
   "execution_count": null,
   "id": "54899d18",
   "metadata": {},
   "outputs": [],
   "source": []
  },
  {
   "cell_type": "code",
   "execution_count": 22,
   "id": "111051a2",
   "metadata": {},
   "outputs": [],
   "source": [
    "def model_plane(model, points=100):\n",
    "    \n",
    "    x = np.array(train_x)\n",
    "    x1 = np.array([np.linspace(min(x[:, 0]), max(x[:, 0]), points) for _ in range(points)]).flatten()\n",
    "    x2 = np.array([np.linspace(min(x[:, 1]), max(x[:, 1]), points) for _ in range(points)]).T.flatten()\n",
    "    y = model.predict_proba(np.stack((x1, x2)).T)\n",
    "    sns.scatterplot(x=x1, y=x2, hue=y[:, 1])\n",
    "    sns.scatterplot(x=x[:, 0], y=x[:, 1], hue=np.array(train_y))"
   ]
  },
  {
   "cell_type": "code",
   "execution_count": null,
   "id": "5f6e243b",
   "metadata": {},
   "outputs": [],
   "source": []
  },
  {
   "cell_type": "code",
   "execution_count": null,
   "id": "8fe808c2",
   "metadata": {},
   "outputs": [],
   "source": []
  },
  {
   "cell_type": "code",
   "execution_count": null,
   "id": "c8183169",
   "metadata": {},
   "outputs": [],
   "source": []
  },
  {
   "cell_type": "code",
   "execution_count": null,
   "id": "cc4046f8",
   "metadata": {},
   "outputs": [],
   "source": []
  },
  {
   "cell_type": "markdown",
   "id": "9d7f700a",
   "metadata": {},
   "source": [
    "### Regularized logistic regression\n",
    "$$L=\\sum_i^n{\\left(\\hat{p_i}(1-y_i)+\\left(1-\\hat{p_i}\\right)y_i\\right)}+\\alpha\\|\\beta\\|_l$$"
   ]
  },
  {
   "cell_type": "code",
   "execution_count": null,
   "id": "5905b209",
   "metadata": {},
   "outputs": [],
   "source": []
  },
  {
   "cell_type": "code",
   "execution_count": null,
   "id": "fdf26cc6",
   "metadata": {},
   "outputs": [],
   "source": []
  },
  {
   "cell_type": "code",
   "execution_count": null,
   "id": "a37c5b35",
   "metadata": {},
   "outputs": [],
   "source": []
  },
  {
   "cell_type": "code",
   "execution_count": null,
   "id": "7b5a7b40",
   "metadata": {},
   "outputs": [],
   "source": []
  },
  {
   "cell_type": "code",
   "execution_count": null,
   "id": "acdd1bc6",
   "metadata": {},
   "outputs": [],
   "source": []
  },
  {
   "cell_type": "code",
   "execution_count": 23,
   "id": "dc1be43d",
   "metadata": {},
   "outputs": [],
   "source": [
    "from sklearn.datasets import make_classification\n",
    "from sklearn.model_selection import train_test_split"
   ]
  },
  {
   "cell_type": "code",
   "execution_count": null,
   "id": "306ac142",
   "metadata": {},
   "outputs": [],
   "source": []
  },
  {
   "cell_type": "code",
   "execution_count": null,
   "id": "66a8edf5",
   "metadata": {},
   "outputs": [],
   "source": []
  },
  {
   "cell_type": "code",
   "execution_count": null,
   "id": "73754a94",
   "metadata": {},
   "outputs": [],
   "source": []
  },
  {
   "cell_type": "code",
   "execution_count": null,
   "id": "0ca3543d",
   "metadata": {},
   "outputs": [],
   "source": []
  },
  {
   "cell_type": "markdown",
   "id": "c1dfd9d4",
   "metadata": {},
   "source": [
    "## K-Nearest Neighbours\n",
    "\n",
    "$x$ - data to be predicted\n",
    "$d_i = \\|x-X_{i\\cdot}\\|$ - distance from observed data \\\n",
    "$c_i=y_i|d_{i:n}$ - ith nearest class \\\n",
    "$NN=(c_1,\\ldots,c_k)$ - nearest neighbours \\\n",
    "$\\hat{c}=\\operatorname{argmax}_{k\\in\\{1,\\ldots,K\\}}{\\sum_i^k{1_{c_i=k}}}$ \\\n",
    "![](media\\knn.png)"
   ]
  },
  {
   "cell_type": "code",
   "execution_count": 24,
   "id": "452f4d62",
   "metadata": {},
   "outputs": [],
   "source": [
    "from sklearn.neighbors import KNeighborsClassifier"
   ]
  },
  {
   "cell_type": "code",
   "execution_count": null,
   "id": "2325dd6a",
   "metadata": {},
   "outputs": [],
   "source": []
  },
  {
   "cell_type": "code",
   "execution_count": null,
   "id": "b845a581",
   "metadata": {},
   "outputs": [],
   "source": []
  },
  {
   "cell_type": "code",
   "execution_count": null,
   "id": "9c12eed4",
   "metadata": {},
   "outputs": [],
   "source": []
  },
  {
   "cell_type": "markdown",
   "id": "cde2fc5b",
   "metadata": {},
   "source": [
    "### Support Vector Machine\n",
    "\n",
    "![](media\\svm.webp)\n",
    "$w^TX_{i\\cdot}-b=0$ - decision boundary \\\n",
    "$y_i\\in\\{-1,1\\}$ \\\n",
    "$y_i(w^TX_{i\\cdot}-b)\\ge1$ - constraint\n",
    "$w=\\operatorname{argmax}_{w^{*}}{\\frac{2}{\\left\\|w^{*}\\right\\|}}$ - margin size"
   ]
  },
  {
   "cell_type": "markdown",
   "id": "cc11b63d",
   "metadata": {},
   "source": [
    "### Soft margins\n",
    "$$L=\\lambda\\|w\\|^2+\\frac{1}{n}\\sum_i^n{\\max{\\left(0,1-y_i\\left(w^TX_{i\\cdot}-b\\right)\\right)}}$$\n",
    "$w=\\operatorname{argmin}_{w^{*}}{L}$"
   ]
  },
  {
   "cell_type": "code",
   "execution_count": 25,
   "id": "ab046e24",
   "metadata": {},
   "outputs": [],
   "source": [
    "from sklearn.svm import SVC"
   ]
  },
  {
   "cell_type": "code",
   "execution_count": null,
   "id": "99de571d",
   "metadata": {},
   "outputs": [],
   "source": []
  },
  {
   "cell_type": "code",
   "execution_count": null,
   "id": "03636777",
   "metadata": {},
   "outputs": [],
   "source": []
  },
  {
   "cell_type": "markdown",
   "id": "c0e8ba16",
   "metadata": {},
   "source": [
    "### Kernel trick\n",
    "![](media\\kernel.ppm)\n",
    "$k(X_{i\\cdot},X_{j\\cdot})=\\phi(X_{i\\cdot})\\phi(X_{j\\cdot})$ - kernel \\\n",
    "$w=\\sum_i^n{c_iy_i\\phi(X_{i\\cdot})}$"
   ]
  },
  {
   "cell_type": "markdown",
   "id": "0795a9f1",
   "metadata": {},
   "source": [
    "![](media\\kernels_formula.png)\n",
    "![](media\\kernels_plot.png)"
   ]
  },
  {
   "cell_type": "code",
   "execution_count": null,
   "id": "35c241cf",
   "metadata": {},
   "outputs": [],
   "source": []
  },
  {
   "cell_type": "code",
   "execution_count": null,
   "id": "e7a22d14",
   "metadata": {},
   "outputs": [],
   "source": []
  },
  {
   "cell_type": "code",
   "execution_count": null,
   "id": "acde853d",
   "metadata": {},
   "outputs": [],
   "source": []
  },
  {
   "cell_type": "markdown",
   "id": "4d9b77f1",
   "metadata": {},
   "source": [
    "## Decision Trees\n",
    "\n",
    "![](media\\decision_tree.png)\n",
    "\n",
    "$R_p$ - parent node \\\n",
    "$R_l,R_r$ - left and right nodes \\\n",
    "$S:R_p\\rightarrow \\{R_l,R_r\\}$ - split \\\n",
    "$p_i^{(a)}=P(c=C_i|X\\in R_a)$ - probability of ith class in $R_a$ node \\\n",
    "$G(R_a)=1-\\sum_i^K{\\left(p_i^{(a)}\\right)^2}$ - Gini Impurity \\\n",
    "$E(R_a)=-\\sum_i^K{p_i\\log{p_i}}$ - Entropy \\\n",
    "$IG(S)=f(R_p)-\\left(P(R_l)f(R_l)+P(R_r)f(R_p)\\right);\\: f(x)=G(x)\\lor f(x)=E(x)$ - Information Gain \\\n",
    "$S=\\operatorname{argmax}_{S^{*}}IG\\left(S^{*}\\right)$"
   ]
  },
  {
   "cell_type": "code",
   "execution_count": 26,
   "id": "72edee2d",
   "metadata": {},
   "outputs": [],
   "source": [
    "from sklearn.tree import DecisionTreeClassifier, plot_tree"
   ]
  },
  {
   "cell_type": "code",
   "execution_count": null,
   "id": "cfb8b5eb",
   "metadata": {},
   "outputs": [],
   "source": []
  },
  {
   "cell_type": "code",
   "execution_count": null,
   "id": "a9dcc64a",
   "metadata": {},
   "outputs": [],
   "source": []
  },
  {
   "cell_type": "code",
   "execution_count": null,
   "id": "e5cb3f0f",
   "metadata": {},
   "outputs": [],
   "source": []
  },
  {
   "cell_type": "markdown",
   "id": "2798a98a",
   "metadata": {},
   "source": [
    "## Naive Bayes\n",
    "![](media\\bayes.png)\n",
    "$$P(c=C_i|X=x)=\\frac{P(c=C_i,X=x)}{P(X)}\\propto P(c=C_i,X=x)=\\\\=P(c=C_i)P(X_{\\cdot 1}=x_1,\\ldots X_{\\cdot m}=x_m|c=C_i)P(X_{\\cdot 1}=x_1|X_{\\cdot 2},\\ldots,X_{\\cdot m}=x_m,c=C_i)\\ldots P(X_{\\cdot m}=x_m|c=C_i)$$"
   ]
  },
  {
   "cell_type": "markdown",
   "id": "019cf4fd",
   "metadata": {},
   "source": [
    "$$P(X_{\\cdot j}=x_j|X_{\\cdot -j}=x_{-j},c=C_i)=P(X_{\\cdot j}=x_j|c=C_i)$$"
   ]
  },
  {
   "cell_type": "markdown",
   "id": "ea489dc3",
   "metadata": {},
   "source": [
    "$$P(c=C_i|X=x)=P(c=C_i)\\prod_{j=1}^m{P(X_{\\cdot j}=x_j|c=C_i)}$$"
   ]
  },
  {
   "cell_type": "markdown",
   "id": "332b337d",
   "metadata": {},
   "source": [
    "In dependence of data type, different likelihood functions are applied"
   ]
  },
  {
   "cell_type": "markdown",
   "id": "925562bd",
   "metadata": {},
   "source": [
    "### Gaussian (continous variable)\n",
    "![](https://wikimedia.org/api/rest_v1/media/math/render/svg/8967b34cca6aeffe1820bc5f2624cee311dccaeb)"
   ]
  },
  {
   "cell_type": "markdown",
   "id": "3352e7bb",
   "metadata": {},
   "source": [
    "### Bernoulli (binary variable)\n",
    "![](https://wikimedia.org/api/rest_v1/media/math/render/svg/2b23b8affe1fa31b1ce499d5d2944d9763ff2e6e)"
   ]
  },
  {
   "cell_type": "markdown",
   "id": "eba9c6c9",
   "metadata": {},
   "source": [
    "### Multinomial (categorical variable)\n",
    "![](https://wikimedia.org/api/rest_v1/media/math/render/svg/8967b34cca6aeffe1820bc5f2624cee311dccaeb)"
   ]
  },
  {
   "cell_type": "code",
   "execution_count": 27,
   "id": "852e4b60",
   "metadata": {},
   "outputs": [],
   "source": [
    "from sklearn.naive_bayes import GaussianNB"
   ]
  },
  {
   "cell_type": "code",
   "execution_count": null,
   "id": "5ccccb50",
   "metadata": {},
   "outputs": [],
   "source": []
  },
  {
   "cell_type": "code",
   "execution_count": null,
   "id": "92d50766",
   "metadata": {},
   "outputs": [],
   "source": []
  },
  {
   "cell_type": "markdown",
   "id": "252c3a0e",
   "metadata": {},
   "source": [
    "### Probability Calibration\n",
    "[![](media\\calibration.png)](https://scikit-learn.org/stable/modules/calibration.html)"
   ]
  },
  {
   "cell_type": "markdown",
   "id": "cd63e4dc",
   "metadata": {},
   "source": [
    "### Others\n",
    "[Gaussian Processes](https://scikit-learn.org/stable/modules/gaussian_process.html) \\\n",
    "[LDA/QDA](https://scikit-learn.org/stable/modules/lda_qda.html)"
   ]
  },
  {
   "cell_type": "markdown",
   "id": "b2f18121",
   "metadata": {},
   "source": [
    "## Metrics\n",
    "![](media\\confusion_matrix.jpeg) \\\n",
    "$F_{\\beta}=\\left(1+\\beta^2\\right)\\frac{\\operatorname{precision}\\cdot\\operatorname{recall}}{\\beta^2\\operatorname{precision}+\\operatorname{recall}}$ \\\n",
    "$F_1=2\\frac{\\operatorname{precision}\\cdot\\operatorname{recall}}{\\operatorname{precision}+\\operatorname{recall}}$"
   ]
  },
  {
   "cell_type": "code",
   "execution_count": null,
   "id": "1a2afd3c",
   "metadata": {},
   "outputs": [],
   "source": []
  },
  {
   "cell_type": "code",
   "execution_count": null,
   "id": "6f21f6da",
   "metadata": {},
   "outputs": [],
   "source": []
  },
  {
   "cell_type": "code",
   "execution_count": null,
   "id": "6d39829a",
   "metadata": {},
   "outputs": [],
   "source": []
  },
  {
   "cell_type": "code",
   "execution_count": null,
   "id": "3b126ea9",
   "metadata": {},
   "outputs": [],
   "source": []
  },
  {
   "cell_type": "code",
   "execution_count": 28,
   "id": "8ae42f9a",
   "metadata": {},
   "outputs": [],
   "source": [
    "from sklearn.metrics import precision_score, recall_score, f1_score, confusion_matrix"
   ]
  },
  {
   "cell_type": "code",
   "execution_count": null,
   "id": "325ca64d",
   "metadata": {},
   "outputs": [],
   "source": []
  },
  {
   "cell_type": "code",
   "execution_count": null,
   "id": "5d1b091c",
   "metadata": {},
   "outputs": [],
   "source": []
  },
  {
   "cell_type": "code",
   "execution_count": null,
   "id": "bf062cc2",
   "metadata": {},
   "outputs": [],
   "source": []
  },
  {
   "cell_type": "code",
   "execution_count": null,
   "id": "db812098",
   "metadata": {},
   "outputs": [],
   "source": []
  },
  {
   "cell_type": "code",
   "execution_count": null,
   "id": "4963a0f6",
   "metadata": {},
   "outputs": [],
   "source": []
  },
  {
   "cell_type": "markdown",
   "id": "64cbcc3e",
   "metadata": {},
   "source": [
    "## ROC/AUC"
   ]
  },
  {
   "cell_type": "code",
   "execution_count": 29,
   "id": "b4c52368",
   "metadata": {},
   "outputs": [],
   "source": [
    "from sklearn.metrics import RocCurveDisplay, PrecisionRecallDisplay"
   ]
  },
  {
   "cell_type": "code",
   "execution_count": null,
   "id": "4e3d6cf7",
   "metadata": {},
   "outputs": [],
   "source": []
  },
  {
   "cell_type": "code",
   "execution_count": null,
   "id": "f6647c82",
   "metadata": {},
   "outputs": [],
   "source": []
  },
  {
   "cell_type": "code",
   "execution_count": null,
   "id": "2062ff1c",
   "metadata": {},
   "outputs": [],
   "source": []
  }
 ],
 "metadata": {
  "kernelspec": {
   "display_name": "Python [conda env:DIY]",
   "language": "python",
   "name": "conda-env-DIY-py"
  },
  "language_info": {
   "codemirror_mode": {
    "name": "ipython",
    "version": 3
   },
   "file_extension": ".py",
   "mimetype": "text/x-python",
   "name": "python",
   "nbconvert_exporter": "python",
   "pygments_lexer": "ipython3",
   "version": "3.9.12"
  }
 },
 "nbformat": 4,
 "nbformat_minor": 5
}
