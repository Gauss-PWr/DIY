{
 "cells": [
  {
   "cell_type": "markdown",
   "id": "78739676",
   "metadata": {},
   "source": [
    "# Technical Requirements\n",
    "\n",
    "- Python (preferably 3.9)\n",
    "- Jupyter\n",
    "- Anaconda\n",
    "- git (just for your convenience)\n",
    "- Stable internet connection"
   ]
  },
  {
   "cell_type": "markdown",
   "id": "96237f29",
   "metadata": {},
   "source": [
    "# Anaconda Walkthrough\n",
    "\n",
    "[![anaconda](media\\anaconda.png)](https://www.anaconda.com/products/distribution)"
   ]
  },
  {
   "cell_type": "markdown",
   "id": "cff839d5",
   "metadata": {},
   "source": [
    "# How to Get Started?"
   ]
  },
  {
   "cell_type": "markdown",
   "id": "77c11165",
   "metadata": {},
   "source": [
    "## Problem Definition\n",
    "\n",
    "<img src=\"media\\student.png\"/>\n",
    "\n",
    "### How to choose proper place to rent an apartment as a student in Poland?"
   ]
  },
  {
   "cell_type": "markdown",
   "id": "fc0f1648",
   "metadata": {},
   "source": [
    "![learning](media\\learning.png)"
   ]
  },
  {
   "cell_type": "markdown",
   "id": "12d64e17",
   "metadata": {},
   "source": [
    "## The Most Important... DATA\n",
    "\n",
    "[![kaggle](media\\kaggle.png)](https://www.kaggle.com/datasets/dawidcegielski/house-prices-in-poland)"
   ]
  },
  {
   "cell_type": "code",
   "execution_count": 34,
   "id": "1926ce98",
   "metadata": {},
   "outputs": [],
   "source": [
    "import os\n",
    "import json\n",
    "\n",
    "city = 'warsaw'"
   ]
  },
  {
   "cell_type": "code",
   "execution_count": 35,
   "id": "f74172db",
   "metadata": {},
   "outputs": [],
   "source": [
    "with open(os.path.join('data', f'{city}.json'), 'r') as city_json:\n",
    "    data = json.load(city_json)"
   ]
  },
  {
   "cell_type": "code",
   "execution_count": 36,
   "id": "28973002",
   "metadata": {},
   "outputs": [
    {
     "data": {
      "text/plain": [
       "dict_keys(['floor', 'price', 'rooms', 'sq', 'year'])"
      ]
     },
     "execution_count": 36,
     "metadata": {},
     "output_type": "execute_result"
    }
   ],
   "source": [
    "columns = data.keys()\n",
    "columns"
   ]
  },
  {
   "cell_type": "markdown",
   "id": "a511085c",
   "metadata": {},
   "source": [
    "## Data Quality "
   ]
  },
  {
   "cell_type": "code",
   "execution_count": 37,
   "id": "9b4fe75a",
   "metadata": {},
   "outputs": [
    {
     "name": "stdout",
     "output_type": "stream",
     "text": [
      "floor: 8865\n",
      "price: 8865\n",
      "rooms: 8865\n",
      "sq: 8865\n",
      "year: 8865\n"
     ]
    }
   ],
   "source": [
    "for column, values in data.items():\n",
    "    print(f'{column}: {len(values)}')"
   ]
  },
  {
   "cell_type": "code",
   "execution_count": 38,
   "id": "23c3c4fa",
   "metadata": {},
   "outputs": [],
   "source": [
    "from numpy import isnan\n",
    "\n",
    "nans = lambda values: sum([isnan(value) for value in values])\n",
    "\n",
    "def nans_summary(data):\n",
    "    for column, values in data.items():\n",
    "        print(f'{column}: {nans(values)}')"
   ]
  },
  {
   "cell_type": "code",
   "execution_count": 39,
   "id": "77aceb44",
   "metadata": {},
   "outputs": [
    {
     "name": "stdout",
     "output_type": "stream",
     "text": [
      "floor: 0\n",
      "price: 835\n",
      "rooms: 0\n",
      "sq: 0\n",
      "year: 0\n"
     ]
    }
   ],
   "source": [
    "nans_summary(data)"
   ]
  },
  {
   "cell_type": "code",
   "execution_count": 40,
   "id": "3cedbf9b",
   "metadata": {},
   "outputs": [],
   "source": [
    "negatives = lambda values: sum([value < 0 for value in values])\n",
    "  \n",
    "def negatives_summary(data):\n",
    "    for column, values in data.items():\n",
    "        print(f'{column}: {negatives(values)}')"
   ]
  },
  {
   "cell_type": "code",
   "execution_count": 41,
   "id": "e710455f",
   "metadata": {},
   "outputs": [
    {
     "name": "stdout",
     "output_type": "stream",
     "text": [
      "floor: 0\n",
      "price: 0\n",
      "rooms: 0\n",
      "sq: 0\n",
      "year: 0\n"
     ]
    }
   ],
   "source": [
    "negatives_summary(data)"
   ]
  },
  {
   "cell_type": "code",
   "execution_count": 42,
   "id": "2661436c",
   "metadata": {},
   "outputs": [],
   "source": [
    "time_summary = lambda data: print(f\"min year: {min(data['year'])}\\nmax year: {max(data['year'])}\")"
   ]
  },
  {
   "cell_type": "code",
   "execution_count": 43,
   "id": "e4c7b4da",
   "metadata": {},
   "outputs": [
    {
     "name": "stdout",
     "output_type": "stream",
     "text": [
      "min year: 75\n",
      "max year: 2980\n"
     ]
    }
   ],
   "source": [
    "time_summary(data)"
   ]
  },
  {
   "cell_type": "markdown",
   "id": "061230db",
   "metadata": {},
   "source": [
    "## Data Processing"
   ]
  },
  {
   "cell_type": "code",
   "execution_count": 44,
   "id": "c639612a",
   "metadata": {},
   "outputs": [],
   "source": [
    "nan_index = [i for i, price in enumerate(data['price']) if isnan(price)]\n",
    "for i, index in enumerate(nan_index):\n",
    "    for values in data.values():\n",
    "        values.pop(index - i)"
   ]
  },
  {
   "cell_type": "code",
   "execution_count": 45,
   "id": "6932b998",
   "metadata": {},
   "outputs": [
    {
     "name": "stdout",
     "output_type": "stream",
     "text": [
      "floor: 0\n",
      "price: 0\n",
      "rooms: 0\n",
      "sq: 0\n",
      "year: 0\n"
     ]
    }
   ],
   "source": [
    "nans_summary(data)"
   ]
  },
  {
   "cell_type": "code",
   "execution_count": 46,
   "id": "dcb409b3",
   "metadata": {},
   "outputs": [],
   "source": [
    "future_index = [i for i, year in enumerate(data['year']) if year > 2022]\n",
    "for i, index in enumerate(future_index):\n",
    "    for values in data.values():\n",
    "        values.pop(index - i)"
   ]
  },
  {
   "cell_type": "code",
   "execution_count": 47,
   "id": "7c5e8d9a",
   "metadata": {},
   "outputs": [
    {
     "name": "stdout",
     "output_type": "stream",
     "text": [
      "min year: 75\n",
      "max year: 2022\n"
     ]
    }
   ],
   "source": [
    "time_summary(data)"
   ]
  },
  {
   "cell_type": "markdown",
   "id": "138e6d84",
   "metadata": {},
   "source": [
    "## Get Insights"
   ]
  },
  {
   "cell_type": "code",
   "execution_count": 48,
   "id": "d75ddf82",
   "metadata": {},
   "outputs": [],
   "source": [
    "import statistics"
   ]
  },
  {
   "cell_type": "code",
   "execution_count": 49,
   "id": "d741baf2",
   "metadata": {},
   "outputs": [
    {
     "name": "stdout",
     "output_type": "stream",
     "text": [
      "floor\n",
      "\tmean: 3.284\n",
      "\tmedian: 3\n",
      "\tstdev: 2.815\n",
      "price\n",
      "\tmean: 781558.535\n",
      "\tmedian: 595000.0\n",
      "\tstdev: 706680.291\n",
      "rooms\n",
      "\tmean: 2.632\n",
      "\tmedian: 3\n",
      "\tstdev: 1.009\n",
      "sq\n",
      "\tmean: 63.108\n",
      "\tmedian: 54.39\n",
      "\tstdev: 104.903\n",
      "year\n",
      "\tmean: 1995.974\n",
      "\tmedian: 2008\n",
      "\tstdev: 42.18\n"
     ]
    }
   ],
   "source": [
    "for column, values in data.items():\n",
    "    print(column)\n",
    "    for stat in (statistics.mean, statistics.median, statistics.stdev):\n",
    "        print(f'\\t{stat.__name__}:', round(stat(values), 3))"
   ]
  },
  {
   "cell_type": "code",
   "execution_count": 50,
   "id": "770e931a",
   "metadata": {},
   "outputs": [],
   "source": [
    "def quartiles(data, column):\n",
    "        \n",
    "    for i, bucket in enumerate(statistics.quantiles(data[column])):\n",
    "        print(f'\\t{round((i + 1) / 4 * 100)}%: {round(bucket, 3)}')"
   ]
  },
  {
   "cell_type": "code",
   "execution_count": 51,
   "id": "915f768e",
   "metadata": {},
   "outputs": [
    {
     "name": "stdout",
     "output_type": "stream",
     "text": [
      "\t25%: 468750.0\n",
      "\t50%: 595000.0\n",
      "\t75%: 820000.0\n"
     ]
    }
   ],
   "source": [
    "quartiles(data, 'price')"
   ]
  },
  {
   "cell_type": "code",
   "execution_count": 52,
   "id": "8be293c2",
   "metadata": {},
   "outputs": [
    {
     "name": "stdout",
     "output_type": "stream",
     "text": [
      "\t25%: 43.0\n",
      "\t50%: 54.39\n",
      "\t75%: 71.0\n"
     ]
    }
   ],
   "source": [
    "quartiles(data, 'sq')"
   ]
  },
  {
   "cell_type": "code",
   "execution_count": 53,
   "id": "90152685",
   "metadata": {},
   "outputs": [],
   "source": [
    "boundaries = lambda data, column: print(f\"min: {min(data[column])}\\nmax: {max(data[column])}\")"
   ]
  },
  {
   "cell_type": "code",
   "execution_count": 54,
   "id": "f87ec2f3",
   "metadata": {},
   "outputs": [
    {
     "name": "stdout",
     "output_type": "stream",
     "text": [
      "min: 5000.0\n",
      "max: 15000000.0\n"
     ]
    }
   ],
   "source": [
    "boundaries(data, 'price')"
   ]
  },
  {
   "cell_type": "code",
   "execution_count": 55,
   "id": "0444dcda",
   "metadata": {},
   "outputs": [
    {
     "name": "stdout",
     "output_type": "stream",
     "text": [
      "min: 11.0\n",
      "max: 9000.0\n"
     ]
    }
   ],
   "source": [
    "boundaries(data, 'sq')"
   ]
  },
  {
   "cell_type": "code",
   "execution_count": 56,
   "id": "2585bad9",
   "metadata": {},
   "outputs": [],
   "source": [
    "def delete_outliers(data, column, percent=.1):\n",
    "\n",
    "    percent /= 2\n",
    "    n = len(data[column])\n",
    "    low, high = sorted(data[column])[int(n*percent)], sorted(data[column])[-int(n*percent)]\n",
    "    to_delete = [i for i in range(len(data[column])) if data[column][i] > high or data[column][i] < low]\n",
    "    for i, delete_index, in enumerate(to_delete):\n",
    "        for values in data.values():\n",
    "            values.pop(delete_index - i)"
   ]
  },
  {
   "cell_type": "code",
   "execution_count": 57,
   "id": "3f972142",
   "metadata": {},
   "outputs": [],
   "source": [
    "delete_outliers(data, 'price')"
   ]
  },
  {
   "cell_type": "code",
   "execution_count": 58,
   "id": "e53c1cdb",
   "metadata": {},
   "outputs": [
    {
     "name": "stdout",
     "output_type": "stream",
     "text": [
      "min: 330000.0\n",
      "max: 1802400.0\n"
     ]
    }
   ],
   "source": [
    "boundaries(data, 'price')"
   ]
  },
  {
   "cell_type": "code",
   "execution_count": 59,
   "id": "ca675c88",
   "metadata": {},
   "outputs": [],
   "source": [
    "delete_outliers(data, 'sq')"
   ]
  },
  {
   "cell_type": "code",
   "execution_count": 60,
   "id": "4d6bbe79",
   "metadata": {},
   "outputs": [
    {
     "name": "stdout",
     "output_type": "stream",
     "text": [
      "min: 30.9\n",
      "max: 104.0\n"
     ]
    }
   ],
   "source": [
    "boundaries(data, 'sq')"
   ]
  },
  {
   "cell_type": "markdown",
   "id": "198bb130",
   "metadata": {},
   "source": [
    "# What Next?"
   ]
  },
  {
   "cell_type": "markdown",
   "id": "3b7b8d57",
   "metadata": {},
   "source": [
    "## Feature Engineering"
   ]
  },
  {
   "cell_type": "code",
   "execution_count": 61,
   "id": "0d75f193",
   "metadata": {},
   "outputs": [
    {
     "name": "stdout",
     "output_type": "stream",
     "text": [
      "floor\n",
      "\tcorrelation: 0.03\n",
      "\tp_value: 0.017\n",
      "price\n",
      "\tcorrelation: 1.0\n",
      "\tp_value: 0.0\n",
      "rooms\n",
      "\tcorrelation: 0.413\n",
      "\tp_value: 0.0\n",
      "sq\n",
      "\tcorrelation: 0.716\n",
      "\tp_value: 0.0\n",
      "year\n",
      "\tcorrelation: 0.015\n",
      "\tp_value: 0.239\n"
     ]
    }
   ],
   "source": [
    "from scipy.stats import pearsonr\n",
    "\n",
    "for column, values in data.items():\n",
    "    print(f\"{column}\")\n",
    "    results = pearsonr(data['price'], values)\n",
    "    print(f'\\tcorrelation: {round(results[0], 3)}')\n",
    "    print(f'\\tp_value: {round(results[1], 3)}')"
   ]
  },
  {
   "cell_type": "markdown",
   "id": "3a86812b",
   "metadata": {},
   "source": [
    "## Build a Model"
   ]
  },
  {
   "cell_type": "markdown",
   "id": "0e7de58d",
   "metadata": {},
   "source": [
    "$$y\\approx\\overline{y}+\\beta_1\\left(x_1-\\overline{x_1}\\right)+\\beta_2\\left(x_2-\\overline{x_2}\\right),$$\n",
    "where $\\beta_i=\\frac{\\operatorname{cov}(y,x_i)\\sigma^2_{x_j}-\\operatorname{cov}(y,x_j)\\operatorname{cov}(x_i,x_j)}{\\sigma^2_{x_i}\\sigma^2_{x_j}-\\left(\\operatorname{cov}(x_i,x_j)\\right)^2}$"
   ]
  },
  {
   "cell_type": "code",
   "execution_count": 62,
   "id": "e79efcb1",
   "metadata": {},
   "outputs": [],
   "source": [
    "from math import sqrt\n",
    "from numpy import cov\n",
    "\n",
    "covariance = lambda x, y: cov(x, y)[1, 0]\n",
    "\n",
    "class LinearModel:\n",
    "    \n",
    "    def __init__(self):\n",
    "        \n",
    "        self.b_sq = 0\n",
    "        self.b_rooms = 0\n",
    "        \n",
    "        self.mean_price = 0\n",
    "        self.mean_sq = 0\n",
    "        self.mean_rooms = 0\n",
    "        \n",
    "        self.error = 0\n",
    "    \n",
    "    def fit(self, price, sq, rooms):\n",
    "        \n",
    "        self.mean_price = statistics.mean(price)\n",
    "        self.mean_sq = statistics.mean(sq)\n",
    "        self.mean_rooms = statistics.mean(rooms)\n",
    "        \n",
    "        denominator = statistics.variance(sq) * statistics.variance(rooms) - covariance(sq, rooms) ** 2\n",
    "        self.b_sq = (covariance(price, sq) * statistics.variance(rooms) - \n",
    "                     covariance(price, rooms) * covariance(sq, rooms)) / denominator\n",
    "        self.b_rooms = (covariance(price, rooms) * statistics.variance(sq) - \n",
    "                        covariance(price, sq) * covariance(sq, rooms)) / denominator\n",
    "        \n",
    "        self.error = self.test(price, sq, rooms)\n",
    "        \n",
    "        return self.error\n",
    "        \n",
    "    def predict(self, sq, rooms):\n",
    "        \n",
    "        return self.mean_price + self.b_sq * (sq - self.mean_sq) + self.b_rooms * (rooms - self.mean_rooms)\n",
    "        \n",
    "    def predict_interval(self, sq, rooms):\n",
    "        \n",
    "        mean_point = self.predict(sq, rooms)\n",
    "        \n",
    "        return dict(mean=mean_point, interval=(mean_point - self.error, mean_point + self.error))\n",
    "    \n",
    "    def test(self, price, sq, rooms):\n",
    "        \n",
    "        return sqrt(statistics.mean([(price[i] - self.predict(sq[i], rooms[i])) ** 2 for i in range(len(price))]))"
   ]
  },
  {
   "cell_type": "markdown",
   "id": "38c0944b",
   "metadata": {},
   "source": [
    "## Evaluate"
   ]
  },
  {
   "cell_type": "code",
   "execution_count": 63,
   "id": "f9cf2464",
   "metadata": {},
   "outputs": [
    {
     "data": {
      "text/plain": [
       "168593.4474311219"
      ]
     },
     "execution_count": 63,
     "metadata": {},
     "output_type": "execute_result"
    }
   ],
   "source": [
    "model = LinearModel()\n",
    "model.fit(data[\"price\"], data[\"sq\"], data[\"rooms\"])"
   ]
  },
  {
   "cell_type": "code",
   "execution_count": 64,
   "id": "763f70f2",
   "metadata": {},
   "outputs": [
    {
     "data": {
      "text/plain": [
       "426581.59150050476"
      ]
     },
     "execution_count": 64,
     "metadata": {},
     "output_type": "execute_result"
    }
   ],
   "source": [
    "with open(f'data\\\\{city}_test.json', 'r') as test:\n",
    "    test_data = json.load(test)\n",
    "\n",
    "model.test(test_data['price'], test_data['sq'], test_data['rooms'])"
   ]
  },
  {
   "cell_type": "markdown",
   "id": "449308e9",
   "metadata": {},
   "source": [
    "# Answer Questions"
   ]
  },
  {
   "cell_type": "code",
   "execution_count": 65,
   "id": "dbe21c4d",
   "metadata": {},
   "outputs": [],
   "source": [
    "def cost(data, sq, rooms):\n",
    "\n",
    "    model = LinearModel()\n",
    "    model.fit(data[\"price\"], data[\"sq\"], data[\"rooms\"])\n",
    "    \n",
    "    return model.predict_interval(sq, rooms)"
   ]
  },
  {
   "cell_type": "code",
   "execution_count": 66,
   "id": "4e1c3581",
   "metadata": {},
   "outputs": [
    {
     "data": {
      "text/plain": [
       "{'mean': 613508.4555447036,\n",
       " 'interval': (444915.00811358175, 782101.9029758256)}"
      ]
     },
     "execution_count": 66,
     "metadata": {},
     "output_type": "execute_result"
    }
   ],
   "source": [
    "cost(data, 50, 2)"
   ]
  }
 ],
 "metadata": {
  "kernelspec": {
   "display_name": "Python [conda env:lectures] *",
   "language": "python",
   "name": "conda-env-lectures-py"
  },
  "language_info": {
   "codemirror_mode": {
    "name": "ipython",
    "version": 3
   },
   "file_extension": ".py",
   "mimetype": "text/x-python",
   "name": "python",
   "nbconvert_exporter": "python",
   "pygments_lexer": "ipython3",
   "version": "3.9.11"
  }
 },
 "nbformat": 4,
 "nbformat_minor": 5
}
