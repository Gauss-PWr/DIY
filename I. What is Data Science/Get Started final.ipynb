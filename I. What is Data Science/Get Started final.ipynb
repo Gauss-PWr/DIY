{
 "cells": [
  {
   "cell_type": "markdown",
   "id": "78739676",
   "metadata": {},
   "source": [
    "# Technical Requirements\n",
    "\n",
    "- Python (preferably 3.9)\n",
    "- Jupyter\n",
    "- Anaconda\n",
    "- git (just for your convenience)\n",
    "- Stable internet connection"
   ]
  },
  {
   "cell_type": "markdown",
   "id": "96237f29",
   "metadata": {},
   "source": [
    "# Anaconda Walkthrough\n",
    "\n",
    "[![anaconda](media\\anaconda.png)](https://www.anaconda.com/products/distribution)"
   ]
  },
  {
   "cell_type": "markdown",
   "id": "cff839d5",
   "metadata": {},
   "source": [
    "# How to Get Started?"
   ]
  },
  {
   "cell_type": "markdown",
   "id": "77c11165",
   "metadata": {},
   "source": [
    "## Problem Definition\n",
    "\n",
    "<img src=\"media\\student.png\"/>\n",
    "\n",
    "### How to choose proper place to rent an apartment as a student in Poland?"
   ]
  },
  {
   "cell_type": "markdown",
   "id": "fc0f1648",
   "metadata": {},
   "source": [
    "![learning](media\\learning.png)"
   ]
  },
  {
   "cell_type": "markdown",
   "id": "12d64e17",
   "metadata": {},
   "source": [
    "## The Most Important... DATA\n",
    "\n",
    "[![kaggle](media\\kaggle.png)](https://www.kaggle.com/datasets/dawidcegielski/house-prices-in-poland)"
   ]
  },
  {
   "cell_type": "code",
   "execution_count": 1,
   "id": "f74172db",
   "metadata": {},
   "outputs": [],
   "source": [
    "import os\n",
    "import json\n",
    "\n",
    "cities = ['cracow', 'warsaw', 'poznan']\n",
    "\n",
    "for city in cities:\n",
    "    with open(os.path.join('data', f'{city}.json'), 'r') as city_json:\n",
    "        exec(f'{city} = json.load(city_json)')"
   ]
  },
  {
   "cell_type": "code",
   "execution_count": 2,
   "id": "28973002",
   "metadata": {},
   "outputs": [
    {
     "data": {
      "text/plain": [
       "dict_keys(['floor', 'price', 'rooms', 'sq', 'year'])"
      ]
     },
     "execution_count": 2,
     "metadata": {},
     "output_type": "execute_result"
    }
   ],
   "source": [
    "columns = warsaw.keys()\n",
    "columns"
   ]
  },
  {
   "cell_type": "markdown",
   "id": "a511085c",
   "metadata": {},
   "source": [
    "## Data Quality "
   ]
  },
  {
   "cell_type": "code",
   "execution_count": 3,
   "id": "46c6bf15",
   "metadata": {},
   "outputs": [],
   "source": [
    "full_data = {city: eval(city) for city in cities}\n",
    "\n",
    "def apply(method):\n",
    "    \n",
    "    for city, data in full_data.items():\n",
    "        print(city)\n",
    "        method(data)"
   ]
  },
  {
   "cell_type": "code",
   "execution_count": 4,
   "id": "9b4fe75a",
   "metadata": {},
   "outputs": [
    {
     "name": "stdout",
     "output_type": "stream",
     "text": [
      "cracow\n",
      "\tfloor: 8787\n",
      "\tprice: 8787\n",
      "\trooms: 8787\n",
      "\tsq: 8787\n",
      "\tyear: 8787\n",
      "warsaw\n",
      "\tfloor: 8865\n",
      "\tprice: 8865\n",
      "\trooms: 8865\n",
      "\tsq: 8865\n",
      "\tyear: 8865\n",
      "poznan\n",
      "\tfloor: 3734\n",
      "\tprice: 3734\n",
      "\trooms: 3734\n",
      "\tsq: 3734\n",
      "\tyear: 3734\n"
     ]
    }
   ],
   "source": [
    "def count(data):\n",
    "    \n",
    "    for column, values in data.items():\n",
    "        print(f'\\t{column}: {len(values)}')\n",
    "        \n",
    "apply(count)"
   ]
  },
  {
   "cell_type": "code",
   "execution_count": 5,
   "id": "23c3c4fa",
   "metadata": {},
   "outputs": [],
   "source": [
    "from numpy import isnan\n",
    "\n",
    "nans = lambda values: sum([isnan(value) for value in values])\n",
    "\n",
    "def nan_raport(relative=True):\n",
    "    \n",
    "    def nan_summary(data):\n",
    "        for column, values in data.items():\n",
    "            if relative:\n",
    "                print(f'\\t{column}: {round(nans(values) / len(values), 3)}')\n",
    "            else:\n",
    "                print(f'\\t{column}: {nans(values)}')\n",
    "                \n",
    "    apply(nan_summary)"
   ]
  },
  {
   "cell_type": "code",
   "execution_count": 6,
   "id": "77aceb44",
   "metadata": {},
   "outputs": [
    {
     "name": "stdout",
     "output_type": "stream",
     "text": [
      "cracow\n",
      "\tfloor: 0.0\n",
      "\tprice: 0.095\n",
      "\trooms: 0.0\n",
      "\tsq: 0.0\n",
      "\tyear: 0.0\n",
      "warsaw\n",
      "\tfloor: 0.0\n",
      "\tprice: 0.094\n",
      "\trooms: 0.0\n",
      "\tsq: 0.0\n",
      "\tyear: 0.0\n",
      "poznan\n",
      "\tfloor: 0.0\n",
      "\tprice: 0.098\n",
      "\trooms: 0.0\n",
      "\tsq: 0.0\n",
      "\tyear: 0.0\n"
     ]
    }
   ],
   "source": [
    "nan_raport()"
   ]
  },
  {
   "cell_type": "code",
   "execution_count": 7,
   "id": "3cedbf9b",
   "metadata": {},
   "outputs": [],
   "source": [
    "negatives = lambda values: sum([value < 0 for value in values])\n",
    "\n",
    "def sign_raport(relative=True):\n",
    "    \n",
    "    def negatives_summary(data):\n",
    "        for column, values in data.items():\n",
    "            if relative:\n",
    "                print(f'\\t{column}: {round(negatives(values) / len(values), 3)}')\n",
    "            else:\n",
    "                print(f'\\t{column}: {negatives(values)}')\n",
    "    \n",
    "    apply(negatives_summary)"
   ]
  },
  {
   "cell_type": "code",
   "execution_count": 8,
   "id": "e710455f",
   "metadata": {},
   "outputs": [
    {
     "name": "stdout",
     "output_type": "stream",
     "text": [
      "cracow\n",
      "\tfloor: 0.0\n",
      "\tprice: 0.0\n",
      "\trooms: 0.0\n",
      "\tsq: 0.0\n",
      "\tyear: 0.0\n",
      "warsaw\n",
      "\tfloor: 0.0\n",
      "\tprice: 0.0\n",
      "\trooms: 0.0\n",
      "\tsq: 0.0\n",
      "\tyear: 0.0\n",
      "poznan\n",
      "\tfloor: 0.0\n",
      "\tprice: 0.0\n",
      "\trooms: 0.0\n",
      "\tsq: 0.0\n",
      "\tyear: 0.0\n"
     ]
    }
   ],
   "source": [
    "sign_raport()"
   ]
  },
  {
   "cell_type": "code",
   "execution_count": 9,
   "id": "2661436c",
   "metadata": {},
   "outputs": [],
   "source": [
    "def time_raport():\n",
    "\n",
    "    apply(lambda data: print(f\"\\tmin year: {min(data['year'])}\\n\\tmax year: {max(data['year'])}\"))"
   ]
  },
  {
   "cell_type": "code",
   "execution_count": 10,
   "id": "e4c7b4da",
   "metadata": {},
   "outputs": [
    {
     "name": "stdout",
     "output_type": "stream",
     "text": [
      "cracow\n",
      "\tmin year: 200\n",
      "\tmax year: 2023\n",
      "warsaw\n",
      "\tmin year: 75\n",
      "\tmax year: 2980\n",
      "poznan\n",
      "\tmin year: 70\n",
      "\tmax year: 2023\n"
     ]
    }
   ],
   "source": [
    "time_raport()"
   ]
  },
  {
   "cell_type": "markdown",
   "id": "061230db",
   "metadata": {},
   "source": [
    "## Data Processing"
   ]
  },
  {
   "cell_type": "code",
   "execution_count": 11,
   "id": "c639612a",
   "metadata": {},
   "outputs": [],
   "source": [
    "for city in cities:\n",
    "    nan_index = [i for i, price in enumerate(full_data[city]['price']) if isnan(price)]\n",
    "    for i, index in enumerate(nan_index):\n",
    "        for values in full_data[city].values():\n",
    "            values.pop(index - i)"
   ]
  },
  {
   "cell_type": "code",
   "execution_count": 12,
   "id": "6932b998",
   "metadata": {},
   "outputs": [
    {
     "name": "stdout",
     "output_type": "stream",
     "text": [
      "cracow\n",
      "\tfloor: 0.0\n",
      "\tprice: 0.0\n",
      "\trooms: 0.0\n",
      "\tsq: 0.0\n",
      "\tyear: 0.0\n",
      "warsaw\n",
      "\tfloor: 0.0\n",
      "\tprice: 0.0\n",
      "\trooms: 0.0\n",
      "\tsq: 0.0\n",
      "\tyear: 0.0\n",
      "poznan\n",
      "\tfloor: 0.0\n",
      "\tprice: 0.0\n",
      "\trooms: 0.0\n",
      "\tsq: 0.0\n",
      "\tyear: 0.0\n"
     ]
    }
   ],
   "source": [
    "nan_raport()"
   ]
  },
  {
   "cell_type": "code",
   "execution_count": 13,
   "id": "dcb409b3",
   "metadata": {},
   "outputs": [],
   "source": [
    "for city in cities:\n",
    "    future_index = [i for i, year in enumerate(full_data[city]['year']) if year > 2022]\n",
    "    for i, index in enumerate(future_index):\n",
    "        for values in full_data[city].values():\n",
    "            values.pop(index - i)"
   ]
  },
  {
   "cell_type": "code",
   "execution_count": 14,
   "id": "7c5e8d9a",
   "metadata": {},
   "outputs": [
    {
     "name": "stdout",
     "output_type": "stream",
     "text": [
      "cracow\n",
      "\tmin year: 200\n",
      "\tmax year: 2022\n",
      "warsaw\n",
      "\tmin year: 75\n",
      "\tmax year: 2022\n",
      "poznan\n",
      "\tmin year: 70\n",
      "\tmax year: 2022\n"
     ]
    }
   ],
   "source": [
    "time_raport()"
   ]
  },
  {
   "cell_type": "markdown",
   "id": "138e6d84",
   "metadata": {},
   "source": [
    "## Get Insights"
   ]
  },
  {
   "cell_type": "code",
   "execution_count": 15,
   "id": "d75ddf82",
   "metadata": {},
   "outputs": [],
   "source": [
    "import statistics"
   ]
  },
  {
   "cell_type": "code",
   "execution_count": 16,
   "id": "d741baf2",
   "metadata": {},
   "outputs": [],
   "source": [
    "def get_stats(*args):\n",
    "    \n",
    "    def stats(data):\n",
    "        for column, values in data.items():\n",
    "            print(f'\\t{column}')\n",
    "            for stat in args:\n",
    "                print(f'\\t\\t{stat}:', round(eval(f'statistics.{stat}({values})'), 3))\n",
    "    \n",
    "    apply(stats)"
   ]
  },
  {
   "cell_type": "code",
   "execution_count": 17,
   "id": "57fc7bad",
   "metadata": {},
   "outputs": [
    {
     "name": "stdout",
     "output_type": "stream",
     "text": [
      "cracow\n",
      "\tfloor\n",
      "\t\tmean: 2.541\n",
      "\t\tmedian: 2.0\n",
      "\t\tstdev: 2.171\n",
      "\tprice\n",
      "\t\tmean: 598044.333\n",
      "\t\tmedian: 499025.0\n",
      "\t\tstdev: 378678.702\n",
      "\trooms\n",
      "\t\tmean: 2.599\n",
      "\t\tmedian: 3.0\n",
      "\t\tstdev: 0.996\n",
      "\tsq\n",
      "\t\tmean: 185.097\n",
      "\t\tmedian: 52.955\n",
      "\t\tstdev: 11323.933\n",
      "\tyear\n",
      "\t\tmean: 2003.109\n",
      "\t\tmedian: 2020.0\n",
      "\t\tstdev: 42.546\n",
      "warsaw\n",
      "\tfloor\n",
      "\t\tmean: 3.284\n",
      "\t\tmedian: 3\n",
      "\t\tstdev: 2.815\n",
      "\tprice\n",
      "\t\tmean: 781558.535\n",
      "\t\tmedian: 595000.0\n",
      "\t\tstdev: 706680.291\n",
      "\trooms\n",
      "\t\tmean: 2.632\n",
      "\t\tmedian: 3\n",
      "\t\tstdev: 1.009\n",
      "\tsq\n",
      "\t\tmean: 63.108\n",
      "\t\tmedian: 54.39\n",
      "\t\tstdev: 104.903\n",
      "\tyear\n",
      "\t\tmean: 1995.974\n",
      "\t\tmedian: 2008\n",
      "\t\tstdev: 42.18\n",
      "poznan\n",
      "\tfloor\n",
      "\t\tmean: 2.316\n",
      "\t\tmedian: 2.0\n",
      "\t\tstdev: 1.982\n",
      "\tprice\n",
      "\t\tmean: 466891.429\n",
      "\t\tmedian: 429180.05\n",
      "\t\tstdev: 193247.907\n",
      "\trooms\n",
      "\t\tmean: 2.659\n",
      "\t\tmedian: 3.0\n",
      "\t\tstdev: 0.98\n",
      "\tsq\n",
      "\t\tmean: 61.785\n",
      "\t\tmedian: 55.05\n",
      "\t\tstdev: 140.358\n",
      "\tyear\n",
      "\t\tmean: 2003.285\n",
      "\t\tmedian: 2020.0\n",
      "\t\tstdev: 65.306\n"
     ]
    }
   ],
   "source": [
    "get_stats('mean', 'median', 'stdev')"
   ]
  },
  {
   "cell_type": "code",
   "execution_count": 18,
   "id": "770e931a",
   "metadata": {},
   "outputs": [],
   "source": [
    "def quantiles(column, buckets):\n",
    "    \n",
    "    def quantiles_summary(data):\n",
    "        \n",
    "        for i, bucket in enumerate(statistics.quantiles(data[column], n=buckets)):\n",
    "            print(f'\\t{round((i + 1) / buckets * 100, 2)}%: {round(bucket, 2)}')\n",
    "            \n",
    "    apply(quantiles_summary)"
   ]
  },
  {
   "cell_type": "code",
   "execution_count": 19,
   "id": "915f768e",
   "metadata": {},
   "outputs": [
    {
     "name": "stdout",
     "output_type": "stream",
     "text": [
      "cracow\n",
      "\t25.0%: 406870.5\n",
      "\t50.0%: 499025.0\n",
      "\t75.0%: 669000.0\n",
      "warsaw\n",
      "\t25.0%: 468750.0\n",
      "\t50.0%: 595000.0\n",
      "\t75.0%: 820000.0\n",
      "poznan\n",
      "\t25.0%: 346985.5\n",
      "\t50.0%: 429180.05\n",
      "\t75.0%: 530084.85\n"
     ]
    }
   ],
   "source": [
    "quantiles('price', 4)"
   ]
  },
  {
   "cell_type": "code",
   "execution_count": 20,
   "id": "8be293c2",
   "metadata": {},
   "outputs": [
    {
     "name": "stdout",
     "output_type": "stream",
     "text": [
      "cracow\n",
      "\t10.0%: 33.32\n",
      "\t20.0%: 38.03\n",
      "\t30.0%: 44.15\n",
      "\t40.0%: 48.54\n",
      "\t50.0%: 52.95\n",
      "\t60.0%: 58.02\n",
      "\t70.0%: 63.71\n",
      "\t80.0%: 71.02\n",
      "\t90.0%: 85.0\n",
      "warsaw\n",
      "\t10.0%: 33.2\n",
      "\t20.0%: 39.29\n",
      "\t30.0%: 46.0\n",
      "\t40.0%: 50.0\n",
      "\t50.0%: 54.39\n",
      "\t60.0%: 60.0\n",
      "\t70.0%: 66.5\n",
      "\t80.0%: 77.34\n",
      "\t90.0%: 98.0\n",
      "poznan\n",
      "\t10.0%: 33.08\n",
      "\t20.0%: 40.01\n",
      "\t30.0%: 46.0\n",
      "\t40.0%: 50.67\n",
      "\t50.0%: 55.05\n",
      "\t60.0%: 61.0\n",
      "\t70.0%: 66.35\n",
      "\t80.0%: 73.85\n",
      "\t90.0%: 86.96\n"
     ]
    }
   ],
   "source": [
    "quantiles('sq', 10)"
   ]
  },
  {
   "cell_type": "code",
   "execution_count": 21,
   "id": "90152685",
   "metadata": {},
   "outputs": [],
   "source": [
    "def boundary_raport(variable):\n",
    "\n",
    "    apply(lambda data: print(f\"\\tmin: {min(data[variable])}\\n\\tmax: {max(data[variable])}\"))"
   ]
  },
  {
   "cell_type": "code",
   "execution_count": 22,
   "id": "f87ec2f3",
   "metadata": {},
   "outputs": [
    {
     "name": "stdout",
     "output_type": "stream",
     "text": [
      "cracow\n",
      "\tmin: 12.0\n",
      "\tmax: 1007185.0\n",
      "warsaw\n",
      "\tmin: 11.0\n",
      "\tmax: 9000.0\n",
      "poznan\n",
      "\tmin: 20.0\n",
      "\tmax: 8065.0\n"
     ]
    }
   ],
   "source": [
    "boundary_raport('sq')"
   ]
  },
  {
   "cell_type": "code",
   "execution_count": 23,
   "id": "0444dcda",
   "metadata": {},
   "outputs": [
    {
     "name": "stdout",
     "output_type": "stream",
     "text": [
      "cracow\n",
      "\tmin: 89900.0\n",
      "\tmax: 6400000.0\n",
      "warsaw\n",
      "\tmin: 5000.0\n",
      "\tmax: 15000000.0\n",
      "poznan\n",
      "\tmin: 79900.0\n",
      "\tmax: 2290000.0\n"
     ]
    }
   ],
   "source": [
    "boundary_raport('price')"
   ]
  },
  {
   "cell_type": "code",
   "execution_count": 24,
   "id": "2585bad9",
   "metadata": {},
   "outputs": [
    {
     "name": "stdout",
     "output_type": "stream",
     "text": [
      "cracow\n",
      "warsaw\n",
      "poznan\n"
     ]
    }
   ],
   "source": [
    "def delete_outliers(data, percent=.1):\n",
    "\n",
    "    percent /= 4\n",
    "    for variable in ['sq', 'price']:\n",
    "        n = len(data[variable])\n",
    "        low, high = sorted(data[variable])[int(n*percent)], sorted(data[variable])[-int(n*percent)]\n",
    "        to_delete = [i for i in range(len(data[variable])) if data[variable][i] > high or data[variable][i] < low]\n",
    "        for i, delete_index, in enumerate(to_delete):\n",
    "            for values in data.values():\n",
    "                values.pop(delete_index - i)\n",
    "    \n",
    "apply(delete_outliers)"
   ]
  },
  {
   "cell_type": "code",
   "execution_count": 25,
   "id": "e53c1cdb",
   "metadata": {},
   "outputs": [
    {
     "name": "stdout",
     "output_type": "stream",
     "text": [
      "cracow\n",
      "\tmin: 25.13\n",
      "\tmax: 124.3\n",
      "warsaw\n",
      "\tmin: 25.0\n",
      "\tmax: 152.0\n",
      "poznan\n",
      "\tmin: 28.1\n",
      "\tmax: 120.0\n"
     ]
    }
   ],
   "source": [
    "boundary_raport('sq')"
   ]
  },
  {
   "cell_type": "code",
   "execution_count": 26,
   "id": "4d6bbe79",
   "metadata": {},
   "outputs": [
    {
     "name": "stdout",
     "output_type": "stream",
     "text": [
      "cracow\n",
      "\tmin: 279000.0\n",
      "\tmax: 1263790.0\n",
      "warsaw\n",
      "\tmin: 320000.0\n",
      "\tmax: 1999000.0\n",
      "poznan\n",
      "\tmin: 254000.0\n",
      "\tmax: 870720.0\n"
     ]
    }
   ],
   "source": [
    "boundary_raport('price')"
   ]
  },
  {
   "cell_type": "markdown",
   "id": "198bb130",
   "metadata": {},
   "source": [
    "# What Next?"
   ]
  },
  {
   "cell_type": "markdown",
   "id": "3b7b8d57",
   "metadata": {},
   "source": [
    "## Feature Engineering"
   ]
  },
  {
   "cell_type": "code",
   "execution_count": 27,
   "id": "0d75f193",
   "metadata": {},
   "outputs": [],
   "source": [
    "from scipy.stats import pearsonr\n",
    "\n",
    "\n",
    "def corr(variable, transform = lambda x: x):\n",
    "    \n",
    "    def corr_summary(data):\n",
    "        main_values = [transform(value) for value in data[variable]]\n",
    "        for column, values in data.items():\n",
    "            print(f\"\\t{column}\")\n",
    "            results = pearsonr(main_values, values)\n",
    "            print(f'\\t\\tcorrelation: {round(results[0], 3)}')\n",
    "            print(f'\\t\\tp_value: {round(results[1], 3)}')\n",
    "    \n",
    "    apply(corr_summary)"
   ]
  },
  {
   "cell_type": "code",
   "execution_count": 28,
   "id": "e31bf7eb",
   "metadata": {},
   "outputs": [
    {
     "name": "stdout",
     "output_type": "stream",
     "text": [
      "cracow\n",
      "\tfloor\n",
      "\t\tcorrelation: 0.037\n",
      "\t\tp_value: 0.002\n",
      "\tprice\n",
      "\t\tcorrelation: 1.0\n",
      "\t\tp_value: 0.0\n",
      "\trooms\n",
      "\t\tcorrelation: 0.485\n",
      "\t\tp_value: 0.0\n",
      "\tsq\n",
      "\t\tcorrelation: 0.728\n",
      "\t\tp_value: 0.0\n",
      "\tyear\n",
      "\t\tcorrelation: -0.062\n",
      "\t\tp_value: 0.0\n",
      "warsaw\n",
      "\tfloor\n",
      "\t\tcorrelation: 0.038\n",
      "\t\tp_value: 0.001\n",
      "\tprice\n",
      "\t\tcorrelation: 1.0\n",
      "\t\tp_value: 0.0\n",
      "\trooms\n",
      "\t\tcorrelation: 0.522\n",
      "\t\tp_value: 0.0\n",
      "\tsq\n",
      "\t\tcorrelation: 0.774\n",
      "\t\tp_value: 0.0\n",
      "\tyear\n",
      "\t\tcorrelation: 0.038\n",
      "\t\tp_value: 0.001\n",
      "poznan\n",
      "\tfloor\n",
      "\t\tcorrelation: 0.008\n",
      "\t\tp_value: 0.678\n",
      "\tprice\n",
      "\t\tcorrelation: 1.0\n",
      "\t\tp_value: 0.0\n",
      "\trooms\n",
      "\t\tcorrelation: 0.66\n",
      "\t\tp_value: 0.0\n",
      "\tsq\n",
      "\t\tcorrelation: 0.834\n",
      "\t\tp_value: 0.0\n",
      "\tyear\n",
      "\t\tcorrelation: 0.058\n",
      "\t\tp_value: 0.001\n"
     ]
    }
   ],
   "source": [
    "corr('price')"
   ]
  },
  {
   "cell_type": "markdown",
   "id": "3a86812b",
   "metadata": {},
   "source": [
    "## Build a Model"
   ]
  },
  {
   "cell_type": "markdown",
   "id": "0e7de58d",
   "metadata": {},
   "source": [
    "$$y\\approx\\overline{y}+\\beta_1\\left(x_1-\\overline{x_1}\\right)+\\beta_2\\left(x_2-\\overline{x_2}\\right),$$\n",
    "where $\\beta_i=\\frac{\\operatorname{cov}(y,x_i)\\sigma^2_{x_j}-\\operatorname{cov}(y,x_j)\\operatorname{cov}(x_i,x_j)}{\\sigma^2_{x_i}\\sigma^2_{x_j}-\\left(\\operatorname{cov}(x_i,x_j)\\right)^2}$"
   ]
  },
  {
   "cell_type": "code",
   "execution_count": 29,
   "id": "e79efcb1",
   "metadata": {},
   "outputs": [],
   "source": [
    "from math import sqrt\n",
    "from numpy import cov\n",
    "\n",
    "covariance = lambda x, y: cov(x, y)[1, 0]\n",
    "\n",
    "class LinearModel:\n",
    "    \n",
    "    def __init__(self):\n",
    "        \n",
    "        self.b_sq = 0\n",
    "        self.b_rooms = 0\n",
    "        \n",
    "        self.mean_price = 0\n",
    "        self.mean_sq = 0\n",
    "        self.mean_rooms = 0\n",
    "        \n",
    "        self.error = 0\n",
    "    \n",
    "    def fit(self, price, sq, rooms):\n",
    "        \n",
    "        self.mean_price = statistics.mean(price)\n",
    "        self.mean_sq = statistics.mean(sq)\n",
    "        self.mean_rooms = statistics.mean(rooms)\n",
    "        \n",
    "        denominator = statistics.variance(sq) * statistics.variance(rooms) - covariance(sq, rooms) ** 2\n",
    "        self.b_sq = (covariance(price, sq) * statistics.variance(rooms) - \n",
    "                     covariance(price, rooms) * covariance(sq, rooms)) / denominator\n",
    "        self.b_rooms = (covariance(price, rooms) * statistics.variance(sq) - \n",
    "                        covariance(price, sq) * covariance(sq, rooms)) / denominator\n",
    "        \n",
    "        self.error = self.test(price, sq, rooms)\n",
    "        \n",
    "        return self.error\n",
    "        \n",
    "    def predict(self, sq, rooms):\n",
    "        \n",
    "        return self.mean_price + self.b_sq * (sq - self.mean_sq) + self.b_rooms * (rooms - self.mean_rooms)\n",
    "        \n",
    "    def predict_interval(self, sq, rooms):\n",
    "        \n",
    "        mean_point = self.predict(sq, rooms)\n",
    "        \n",
    "        return dict(mean=mean_point, interval=(mean_point - self.error, mean_point + self.error))\n",
    "    \n",
    "    def test(self, price, sq, rooms):\n",
    "        \n",
    "        return sqrt(statistics.mean([(price[i] - self.predict(sq[i], rooms[i])) ** 2 for i in range(len(price))]))"
   ]
  },
  {
   "cell_type": "markdown",
   "id": "38c0944b",
   "metadata": {},
   "source": [
    "## Evaluate"
   ]
  },
  {
   "cell_type": "code",
   "execution_count": 30,
   "id": "f9cf2464",
   "metadata": {},
   "outputs": [
    {
     "name": "stdout",
     "output_type": "stream",
     "text": [
      "cracow\n",
      "\t131364.02217395458\n",
      "warsaw\n",
      "\t186861.67959449024\n",
      "poznan\n",
      "\t69508.80303326121\n"
     ]
    }
   ],
   "source": [
    "def model_summary(data):\n",
    "    \n",
    "    model = LinearModel()\n",
    "    print(f'\\t{model.fit(data[\"price\"], data[\"sq\"], data[\"rooms\"])}')\n",
    "    \n",
    "apply(model_summary)"
   ]
  },
  {
   "cell_type": "code",
   "execution_count": 31,
   "id": "763f70f2",
   "metadata": {},
   "outputs": [
    {
     "name": "stdout",
     "output_type": "stream",
     "text": [
      "cracow: 241446.8669676865\n",
      "warsaw: 437723.3109684522\n",
      "poznan: 120849.06500859062\n"
     ]
    }
   ],
   "source": [
    "for city in cities:\n",
    "    \n",
    "    data = full_data[city]\n",
    "    \n",
    "    model = LinearModel()\n",
    "    model.fit(data[\"price\"], data[\"sq\"], data[\"rooms\"])\n",
    "    \n",
    "    with open(f'data\\\\{city}_test.json', 'r') as test:\n",
    "        test_data = json.load(test)\n",
    "    print(f\"{city}: {model.test(test_data['price'], test_data['sq'], test_data['rooms'])}\")"
   ]
  },
  {
   "cell_type": "markdown",
   "id": "449308e9",
   "metadata": {},
   "source": [
    "# Answer Questions"
   ]
  },
  {
   "cell_type": "code",
   "execution_count": 32,
   "id": "dbe21c4d",
   "metadata": {},
   "outputs": [],
   "source": [
    "def cost(sq, rooms):\n",
    "\n",
    "    def summary(data):\n",
    "\n",
    "        model = LinearModel()\n",
    "        model.fit(data[\"price\"], data[\"sq\"], data[\"rooms\"])\n",
    "        print(f'\\t{model.predict_interval(sq, rooms)}')\n",
    "    \n",
    "    apply(summary)"
   ]
  },
  {
   "cell_type": "code",
   "execution_count": 33,
   "id": "4e1c3581",
   "metadata": {},
   "outputs": [
    {
     "name": "stdout",
     "output_type": "stream",
     "text": [
      "cracow\n",
      "\t{'mean': 532068.3765148105, 'interval': (400704.3543408559, 663432.398688765)}\n",
      "warsaw\n",
      "\t{'mean': 614783.3889145994, 'interval': (427921.7093201092, 801645.0685090896)}\n",
      "poznan\n",
      "\t{'mean': 401403.2667904576, 'interval': (331894.4637571964, 470912.0698237188)}\n"
     ]
    }
   ],
   "source": [
    "cost(50, 2)"
   ]
  }
 ],
 "metadata": {
  "kernelspec": {
   "display_name": "Python [conda env:lectures]",
   "language": "python",
   "name": "conda-env-lectures-py"
  },
  "language_info": {
   "codemirror_mode": {
    "name": "ipython",
    "version": 3
   },
   "file_extension": ".py",
   "mimetype": "text/x-python",
   "name": "python",
   "nbconvert_exporter": "python",
   "pygments_lexer": "ipython3",
   "version": "3.9.11"
  }
 },
 "nbformat": 4,
 "nbformat_minor": 5
}
