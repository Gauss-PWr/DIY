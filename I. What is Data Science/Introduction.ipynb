{
 "cells": [
  {
   "cell_type": "markdown",
   "metadata": {
    "pycharm": {
     "name": "#%%\n"
    },
    "slideshow": {
     "slide_type": "slide"
    }
   },
   "source": [
    "# Introduction"
   ]
  },
  {
   "cell_type": "markdown",
   "metadata": {
    "slideshow": {
     "slide_type": "subslide"
    }
   },
   "source": [
    "## Course Overview\n",
    "\n",
    "- Intro\n",
    "- Numpy\n",
    "- Pandas\n",
    "- Visualization\n",
    "- Dimensionality Reduction\n",
    "- Classification\n",
    "- Regression\n",
    "- Ensemble Methods\n",
    "- Clusterization\n",
    "- Deep Learning"
   ]
  },
  {
   "cell_type": "markdown",
   "metadata": {
    "slideshow": {
     "slide_type": "subslide"
    }
   },
   "source": [
    "## Prerequisities\n",
    "\n",
    "- Python/Jupyter\n",
    "- Maths and Stats\n",
    "- Time..."
   ]
  },
  {
   "cell_type": "markdown",
   "metadata": {
    "slideshow": {
     "slide_type": "slide"
    }
   },
   "source": [
    "# What Science?"
   ]
  },
  {
   "cell_type": "markdown",
   "metadata": {
    "slideshow": {
     "slide_type": "subslide"
    }
   },
   "source": [
    "## Data Science - Overview\n",
    "\n",
    "<img src=\"media\\lifecycle.png\" style=\"height:40%;\"/>"
   ]
  },
  {
   "cell_type": "markdown",
   "metadata": {
    "slideshow": {
     "slide_type": "subslide"
    }
   },
   "source": [
    "## How to become an Unicorn?\n",
    "\n",
    "<img src=\"media\\roadmap.png\" style=\"height:50%;\"/>"
   ]
  },
  {
   "cell_type": "markdown",
   "metadata": {
    "slideshow": {
     "slide_type": "slide"
    }
   },
   "source": [
    "# But... Why?"
   ]
  },
  {
   "cell_type": "markdown",
   "metadata": {
    "slideshow": {
     "slide_type": "subslide"
    }
   },
   "source": [
    "## Recommendation Systems\n",
    "\n",
    "<img src=\"media\\recommendation.jpg\" style=\"height:80%;\"/>"
   ]
  },
  {
   "cell_type": "markdown",
   "metadata": {
    "slideshow": {
     "slide_type": "subslide"
    }
   },
   "source": [
    "## Natural Language Processing\n",
    "\n",
    "<table><tr>\n",
    "    <td><img src=\"media\\bots.jpg\" style=\"height:120%;\"/></td>\n",
    "    <td><img src=\"media\\nlp.png\" style=\"height:140%\"/></td>\n",
    "</tr></table>"
   ]
  },
  {
   "cell_type": "markdown",
   "metadata": {
    "slideshow": {
     "slide_type": "subslide"
    }
   },
   "source": [
    "## Computer Vision\n",
    "\n",
    "<table><tr>\n",
    "    <td><img src=\"media\\cars.png\" style=\"height:80%;\"/></td>\n",
    "    <td><img src=\"media\\cnn.png\" style=\"height:80%;\"/></td>\n",
    "</tr></table>"
   ]
  },
  {
   "cell_type": "markdown",
   "metadata": {
    "slideshow": {
     "slide_type": "slide"
    }
   },
   "source": [
    "# Ready?"
   ]
  }
 ],
 "metadata": {
  "celltoolbar": "Slideshow",
  "kernelspec": {
   "display_name": "Python 3 (ipykernel)",
   "language": "python",
   "name": "python3"
  },
  "language_info": {
   "codemirror_mode": {
    "name": "ipython",
    "version": 3
   },
   "file_extension": ".py",
   "mimetype": "text/x-python",
   "name": "python",
   "nbconvert_exporter": "python",
   "pygments_lexer": "ipython3",
   "version": "3.9.11"
  },
  "pycharm": {
   "stem_cell": {
    "cell_type": "raw",
    "metadata": {
     "collapsed": false
    },
    "source": [
     "# Wprowadzenie"
    ]
   }
  }
 },
 "nbformat": 4,
 "nbformat_minor": 1
}
