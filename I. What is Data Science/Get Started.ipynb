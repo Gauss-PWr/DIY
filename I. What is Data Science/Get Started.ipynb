{
 "cells": [
  {
   "cell_type": "markdown",
   "id": "78739676",
   "metadata": {},
   "source": [
    "# Technical Requirements\n",
    "\n",
    "- Python (preferably 3.9)\n",
    "- Jupyter\n",
    "- Anaconda\n",
    "- git (just for your convenience)\n",
    "- Stable internet connection"
   ]
  },
  {
   "cell_type": "markdown",
   "id": "96237f29",
   "metadata": {},
   "source": [
    "# Anaconda Walkthrough\n",
    "\n",
    "[![anaconda](media\\anaconda.png)](https://www.anaconda.com/products/distribution)"
   ]
  },
  {
   "cell_type": "markdown",
   "id": "cff839d5",
   "metadata": {},
   "source": [
    "# How to Get Started?"
   ]
  },
  {
   "cell_type": "markdown",
   "id": "77c11165",
   "metadata": {},
   "source": [
    "## Problem Definition\n",
    "\n",
    "<img src=\"media\\student.png\"/>\n",
    "\n",
    "### How to choose proper place to rent an apartment as a student in Poland?"
   ]
  },
  {
   "cell_type": "markdown",
   "id": "2e0f1205",
   "metadata": {},
   "source": [
    "![learning](media\\learning.png)"
   ]
  },
  {
   "cell_type": "markdown",
   "id": "12d64e17",
   "metadata": {},
   "source": [
    "## The Most Important... DATA\n",
    "\n",
    "[![kaggle](media\\kaggle.png)](https://www.kaggle.com/datasets/dawidcegielski/house-prices-in-poland)"
   ]
  },
  {
   "cell_type": "code",
   "execution_count": 34,
   "id": "f74172db",
   "metadata": {},
   "outputs": [],
   "source": [
    "# imports\n",
    "\n",
    "# load data"
   ]
  },
  {
   "cell_type": "code",
   "execution_count": 35,
   "id": "28973002",
   "metadata": {},
   "outputs": [],
   "source": [
    "# look for columns"
   ]
  },
  {
   "cell_type": "markdown",
   "id": "a511085c",
   "metadata": {},
   "source": [
    "## Data Quality "
   ]
  },
  {
   "cell_type": "code",
   "execution_count": 36,
   "id": "46c6bf15",
   "metadata": {},
   "outputs": [],
   "source": [
    "# full data\n",
    "\n",
    "# global function"
   ]
  },
  {
   "cell_type": "code",
   "execution_count": 37,
   "id": "9b4fe75a",
   "metadata": {},
   "outputs": [],
   "source": [
    "# count"
   ]
  },
  {
   "cell_type": "code",
   "execution_count": 38,
   "id": "23c3c4fa",
   "metadata": {},
   "outputs": [],
   "source": [
    "# nans"
   ]
  },
  {
   "cell_type": "code",
   "execution_count": 39,
   "id": "3cedbf9b",
   "metadata": {},
   "outputs": [],
   "source": [
    "# sign check"
   ]
  },
  {
   "cell_type": "code",
   "execution_count": 40,
   "id": "2661436c",
   "metadata": {},
   "outputs": [],
   "source": [
    "# time check"
   ]
  },
  {
   "cell_type": "markdown",
   "id": "061230db",
   "metadata": {},
   "source": [
    "## Data Processing"
   ]
  },
  {
   "cell_type": "code",
   "execution_count": 41,
   "id": "c639612a",
   "metadata": {},
   "outputs": [],
   "source": [
    "# delete nans"
   ]
  },
  {
   "cell_type": "code",
   "execution_count": 42,
   "id": "6932b998",
   "metadata": {},
   "outputs": [],
   "source": [
    "# check nans again"
   ]
  },
  {
   "cell_type": "code",
   "execution_count": 43,
   "id": "dcb409b3",
   "metadata": {},
   "outputs": [],
   "source": [
    "# delete future"
   ]
  },
  {
   "cell_type": "code",
   "execution_count": 44,
   "id": "7c5e8d9a",
   "metadata": {},
   "outputs": [],
   "source": [
    "# check time again"
   ]
  },
  {
   "cell_type": "markdown",
   "id": "138e6d84",
   "metadata": {},
   "source": [
    "## Get Insights"
   ]
  },
  {
   "cell_type": "code",
   "execution_count": 45,
   "id": "d75ddf82",
   "metadata": {},
   "outputs": [],
   "source": [
    "# import stats"
   ]
  },
  {
   "cell_type": "code",
   "execution_count": 46,
   "id": "d741baf2",
   "metadata": {},
   "outputs": [],
   "source": [
    "# get statistics"
   ]
  },
  {
   "cell_type": "code",
   "execution_count": 47,
   "id": "770e931a",
   "metadata": {},
   "outputs": [],
   "source": [
    "# quantiles"
   ]
  },
  {
   "cell_type": "code",
   "execution_count": 48,
   "id": "90152685",
   "metadata": {},
   "outputs": [],
   "source": [
    "# boundary values"
   ]
  },
  {
   "cell_type": "code",
   "execution_count": 49,
   "id": "2585bad9",
   "metadata": {},
   "outputs": [],
   "source": [
    "# delete outliers"
   ]
  },
  {
   "cell_type": "code",
   "execution_count": 50,
   "id": "e53c1cdb",
   "metadata": {},
   "outputs": [],
   "source": [
    "# check boundary again"
   ]
  },
  {
   "cell_type": "markdown",
   "id": "198bb130",
   "metadata": {},
   "source": [
    "# What Next?"
   ]
  },
  {
   "cell_type": "markdown",
   "id": "3b7b8d57",
   "metadata": {},
   "source": [
    "## Feature Engineering"
   ]
  },
  {
   "cell_type": "code",
   "execution_count": 51,
   "id": "0d75f193",
   "metadata": {},
   "outputs": [],
   "source": [
    "# correlation test"
   ]
  },
  {
   "cell_type": "markdown",
   "id": "3a86812b",
   "metadata": {},
   "source": [
    "## Build a Model"
   ]
  },
  {
   "cell_type": "markdown",
   "id": "0e7de58d",
   "metadata": {},
   "source": [
    "$$y\\approx\\overline{y}+\\beta_1\\left(x_1-\\overline{x_1}\\right)+\\beta_2\\left(x_2-\\overline{x_2}\\right),$$\n",
    "where $\\beta_i=\\frac{\\operatorname{cov}(y,x_i)\\sigma^2_{x_j}-\\operatorname{cov}(y,x_j)\\operatorname{cov}(x_i,x_j)}{\\sigma^2_{x_i}\\sigma^2_{x_j}-\\left(\\operatorname{cov}(x_i,x_j)\\right)^2}$"
   ]
  },
  {
   "cell_type": "code",
   "execution_count": 52,
   "id": "e79efcb1",
   "metadata": {},
   "outputs": [],
   "source": [
    "# imports\n",
    "\n",
    "# linear model"
   ]
  },
  {
   "cell_type": "markdown",
   "id": "38c0944b",
   "metadata": {},
   "source": [
    "## Evaluate"
   ]
  },
  {
   "cell_type": "code",
   "execution_count": 53,
   "id": "f9cf2464",
   "metadata": {},
   "outputs": [],
   "source": [
    "# train loss"
   ]
  },
  {
   "cell_type": "code",
   "execution_count": 54,
   "id": "183ff69e",
   "metadata": {},
   "outputs": [],
   "source": [
    "# test loss"
   ]
  },
  {
   "cell_type": "markdown",
   "id": "449308e9",
   "metadata": {},
   "source": [
    "# Answer Questions"
   ]
  },
  {
   "cell_type": "code",
   "execution_count": 55,
   "id": "dbe21c4d",
   "metadata": {},
   "outputs": [],
   "source": [
    "# what is the final cost"
   ]
  },
  {
   "cell_type": "markdown",
   "id": "eccec09d",
   "metadata": {},
   "source": [
    "# Homework"
   ]
  },
  {
   "cell_type": "markdown",
   "id": "ac019501",
   "metadata": {},
   "source": [
    "[![avocado](media\\avocado.jpg)](https://www.kaggle.com/datasets/neuromusic/avocado-prices)"
   ]
  }
 ],
 "metadata": {
  "kernelspec": {
   "display_name": "Python [conda env:lectures]",
   "language": "python",
   "name": "conda-env-lectures-py"
  },
  "language_info": {
   "codemirror_mode": {
    "name": "ipython",
    "version": 3
   },
   "file_extension": ".py",
   "mimetype": "text/x-python",
   "name": "python",
   "nbconvert_exporter": "python",
   "pygments_lexer": "ipython3",
   "version": "3.9.11"
  }
 },
 "nbformat": 4,
 "nbformat_minor": 5
}
