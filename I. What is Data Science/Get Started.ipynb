{
 "cells": [
  {
   "cell_type": "markdown",
   "id": "78739676",
   "metadata": {},
   "source": [
    "# Technical Requirements\n",
    "\n",
    "- Python (preferably 3.9)\n",
    "- Jupyter\n",
    "- Anaconda\n",
    "- git (just for you convenience)\n",
    "- Stable internet connection"
   ]
  },
  {
   "cell_type": "markdown",
   "id": "96237f29",
   "metadata": {},
   "source": [
    "# Anaconda Walkthrough\n",
    "\n",
    "[![anaconda](media\\anaconda.png)](https://www.anaconda.com/products/distribution)"
   ]
  },
  {
   "cell_type": "markdown",
   "id": "cff839d5",
   "metadata": {},
   "source": [
    "# How to Get Started?"
   ]
  },
  {
   "cell_type": "markdown",
   "id": "77c11165",
   "metadata": {},
   "source": [
    "## Problem Definition\n",
    "\n",
    "<img src=\"media\\student.png\"/>\n",
    "\n",
    "### How to choose proper place to rent an apartment as a student in Poland?"
   ]
  },
  {
   "cell_type": "markdown",
   "id": "12d64e17",
   "metadata": {},
   "source": [
    "## The Most Important... DATA\n",
    "\n",
    "[![kaggle](media\\kaggle.png)](https://www.kaggle.com/datasets/dawidcegielski/house-prices-in-poland)"
   ]
  },
  {
   "cell_type": "code",
   "execution_count": 1,
   "id": "2243389a",
   "metadata": {},
   "outputs": [],
   "source": [
    "import os\n",
    "import json\n",
    "\n",
    "cities = ['cracow', 'warsaw', 'poznan']\n",
    "\n",
    "for city in cities:\n",
    "    with open(os.path.join('data', f'{city}.json'), 'r') as city_json:\n",
    "        exec(f'{city} = json.load(city_json)')"
   ]
  },
  {
   "cell_type": "code",
   "execution_count": 2,
   "id": "ed2f0d15",
   "metadata": {},
   "outputs": [
    {
     "data": {
      "text/plain": [
       "dict_keys(['floor', 'price', 'rooms', 'sq', 'year'])"
      ]
     },
     "execution_count": 2,
     "metadata": {},
     "output_type": "execute_result"
    }
   ],
   "source": [
    "columns = warsaw.keys()\n",
    "columns"
   ]
  },
  {
   "cell_type": "markdown",
   "id": "a511085c",
   "metadata": {},
   "source": [
    "## Data Quality "
   ]
  },
  {
   "cell_type": "code",
   "execution_count": 3,
   "id": "17711cac",
   "metadata": {},
   "outputs": [],
   "source": [
    "full_data = {city: eval(city) for city in cities}\n",
    "\n",
    "def apply(method):\n",
    "    \n",
    "    for city, data in full_data.items():\n",
    "        print(city)\n",
    "        method(data)"
   ]
  },
  {
   "cell_type": "code",
   "execution_count": 4,
   "id": "8a40b1a5",
   "metadata": {},
   "outputs": [
    {
     "name": "stdout",
     "output_type": "stream",
     "text": [
      "cracow\n",
      "\tfloor: 9764\n",
      "\tprice: 9764\n",
      "\trooms: 9764\n",
      "\tsq: 9764\n",
      "\tyear: 9764\n",
      "warsaw\n",
      "\tfloor: 9851\n",
      "\tprice: 9851\n",
      "\trooms: 9851\n",
      "\tsq: 9851\n",
      "\tyear: 9851\n",
      "poznan\n",
      "\tfloor: 4149\n",
      "\tprice: 4149\n",
      "\trooms: 4149\n",
      "\tsq: 4149\n",
      "\tyear: 4149\n"
     ]
    }
   ],
   "source": [
    "def count(data):\n",
    "    \n",
    "    for column, values in data.items():\n",
    "        print(f'\\t{column}: {len(values)}')\n",
    "        \n",
    "apply(count)"
   ]
  },
  {
   "cell_type": "code",
   "execution_count": 5,
   "id": "cd126429",
   "metadata": {},
   "outputs": [],
   "source": [
    "from numpy import isnan\n",
    "\n",
    "nans = lambda values: sum([isnan(value) for value in values])\n",
    "\n",
    "def nan_raport(relative=True):\n",
    "    \n",
    "    def nan_summary(data):\n",
    "        for column, values in data.items():\n",
    "            if relative:\n",
    "                print(f'\\t{column}: {round(nans(values) / len(values), 3)}')\n",
    "            else:\n",
    "                print(f'\\t{column}: {nans(values)}')\n",
    "                \n",
    "    apply(nan_summary)"
   ]
  },
  {
   "cell_type": "code",
   "execution_count": 6,
   "id": "0b0cbba8",
   "metadata": {},
   "outputs": [
    {
     "name": "stdout",
     "output_type": "stream",
     "text": [
      "cracow\n",
      "\tfloor: 0.0\n",
      "\tprice: 0.095\n",
      "\trooms: 0.0\n",
      "\tsq: 0.0\n",
      "\tyear: 0.0\n",
      "warsaw\n",
      "\tfloor: 0.0\n",
      "\tprice: 0.094\n",
      "\trooms: 0.0\n",
      "\tsq: 0.0\n",
      "\tyear: 0.0\n",
      "poznan\n",
      "\tfloor: 0.0\n",
      "\tprice: 0.097\n",
      "\trooms: 0.0\n",
      "\tsq: 0.0\n",
      "\tyear: 0.0\n"
     ]
    }
   ],
   "source": [
    "nan_raport()"
   ]
  },
  {
   "cell_type": "code",
   "execution_count": 7,
   "id": "45cf3c08",
   "metadata": {},
   "outputs": [],
   "source": [
    "negatives = lambda values: sum([value < 0 for value in values])\n",
    "\n",
    "def sign_raport(relative=True):\n",
    "    \n",
    "    def negatives_summary(data):\n",
    "        for column, values in data.items():\n",
    "            if relative:\n",
    "                print(f'\\t{column}: {round(negatives(values) / len(values), 3)}')\n",
    "            else:\n",
    "                print(f'\\t{column}: {negatives(values)}')\n",
    "    \n",
    "    apply(negatives_summary)"
   ]
  },
  {
   "cell_type": "code",
   "execution_count": 8,
   "id": "baf6360e",
   "metadata": {},
   "outputs": [
    {
     "name": "stdout",
     "output_type": "stream",
     "text": [
      "cracow\n",
      "\tfloor: 0.0\n",
      "\tprice: 0.0\n",
      "\trooms: 0.0\n",
      "\tsq: 0.0\n",
      "\tyear: 0.0\n",
      "warsaw\n",
      "\tfloor: 0.0\n",
      "\tprice: 0.0\n",
      "\trooms: 0.0\n",
      "\tsq: 0.0\n",
      "\tyear: 0.0\n",
      "poznan\n",
      "\tfloor: 0.0\n",
      "\tprice: 0.0\n",
      "\trooms: 0.0\n",
      "\tsq: 0.0\n",
      "\tyear: 0.0\n"
     ]
    }
   ],
   "source": [
    "sign_raport()"
   ]
  },
  {
   "cell_type": "code",
   "execution_count": 9,
   "id": "7f2efcbd",
   "metadata": {},
   "outputs": [],
   "source": [
    "def time_raport():\n",
    "\n",
    "    apply(lambda data: print(f\"\\tmin year: {min(data['year'])}\\n\\tmax year: {max(data['year'])}\"))"
   ]
  },
  {
   "cell_type": "code",
   "execution_count": 10,
   "id": "880a22ad",
   "metadata": {},
   "outputs": [
    {
     "name": "stdout",
     "output_type": "stream",
     "text": [
      "cracow\n",
      "\tmin year: 200\n",
      "\tmax year: 2023\n",
      "warsaw\n",
      "\tmin year: 75\n",
      "\tmax year: 2980\n",
      "poznan\n",
      "\tmin year: 70\n",
      "\tmax year: 2023\n"
     ]
    }
   ],
   "source": [
    "time_raport()"
   ]
  },
  {
   "cell_type": "markdown",
   "id": "061230db",
   "metadata": {},
   "source": [
    "## Data Processing"
   ]
  },
  {
   "cell_type": "code",
   "execution_count": 11,
   "id": "4a12589f",
   "metadata": {},
   "outputs": [],
   "source": [
    "for city in cities:\n",
    "    nan_index = [i for i, price in enumerate(full_data[city]['price']) if isnan(price)]\n",
    "    for i, index in enumerate(nan_index):\n",
    "        for values in full_data[city].values():\n",
    "            values.pop(index - i)"
   ]
  },
  {
   "cell_type": "code",
   "execution_count": 12,
   "id": "cb5ad6fc",
   "metadata": {},
   "outputs": [
    {
     "name": "stdout",
     "output_type": "stream",
     "text": [
      "cracow\n",
      "\tfloor: 0.0\n",
      "\tprice: 0.0\n",
      "\trooms: 0.0\n",
      "\tsq: 0.0\n",
      "\tyear: 0.0\n",
      "warsaw\n",
      "\tfloor: 0.0\n",
      "\tprice: 0.0\n",
      "\trooms: 0.0\n",
      "\tsq: 0.0\n",
      "\tyear: 0.0\n",
      "poznan\n",
      "\tfloor: 0.0\n",
      "\tprice: 0.0\n",
      "\trooms: 0.0\n",
      "\tsq: 0.0\n",
      "\tyear: 0.0\n"
     ]
    }
   ],
   "source": [
    "nan_raport()"
   ]
  },
  {
   "cell_type": "code",
   "execution_count": 13,
   "id": "18bfbd2a",
   "metadata": {},
   "outputs": [],
   "source": [
    "for city in cities:\n",
    "    future_index = [i for i, year in enumerate(full_data[city]['year']) if year > 2022]\n",
    "    for i, index in enumerate(future_index):\n",
    "        for values in full_data[city].values():\n",
    "            values.pop(index - i)"
   ]
  },
  {
   "cell_type": "code",
   "execution_count": 14,
   "id": "c91b07ce",
   "metadata": {},
   "outputs": [
    {
     "name": "stdout",
     "output_type": "stream",
     "text": [
      "cracow\n",
      "\tmin year: 200\n",
      "\tmax year: 2022\n",
      "warsaw\n",
      "\tmin year: 75\n",
      "\tmax year: 2022\n",
      "poznan\n",
      "\tmin year: 70\n",
      "\tmax year: 2022\n"
     ]
    }
   ],
   "source": [
    "time_raport()"
   ]
  },
  {
   "cell_type": "markdown",
   "id": "138e6d84",
   "metadata": {},
   "source": [
    "## Get Insights"
   ]
  },
  {
   "cell_type": "code",
   "execution_count": 15,
   "id": "4cd10170",
   "metadata": {},
   "outputs": [],
   "source": [
    "import statistics"
   ]
  },
  {
   "cell_type": "code",
   "execution_count": 16,
   "id": "716d9064",
   "metadata": {},
   "outputs": [],
   "source": [
    "def get_stats(*args):\n",
    "    \n",
    "    def stats(data):\n",
    "        for column, values in data.items():\n",
    "            print(f'\\t{column}')\n",
    "            for stat in args:\n",
    "                print(f'\\t\\t{stat}:', round(eval(f'statistics.{stat}({values})'), 3))\n",
    "    \n",
    "    apply(stats)"
   ]
  },
  {
   "cell_type": "code",
   "execution_count": 17,
   "id": "c37cd494",
   "metadata": {},
   "outputs": [
    {
     "name": "stdout",
     "output_type": "stream",
     "text": [
      "cracow\n",
      "\tfloor\n",
      "\t\tmean: 2.543\n",
      "\t\tmedian: 2\n",
      "\t\tstdev: 2.178\n",
      "\tprice\n",
      "\t\tmean: 596748.177\n",
      "\t\tmedian: 501381.0\n",
      "\t\tstdev: 374950.035\n",
      "\trooms\n",
      "\t\tmean: 2.603\n",
      "\t\tmedian: 3\n",
      "\t\tstdev: 0.989\n",
      "\tsq\n",
      "\t\tmean: 172.293\n",
      "\t\tmedian: 53.0\n",
      "\t\tstdev: 10741.539\n",
      "\tyear\n",
      "\t\tmean: 2003.584\n",
      "\t\tmedian: 2020\n",
      "\t\tstdev: 41.186\n",
      "warsaw\n",
      "\tfloor\n",
      "\t\tmean: 3.277\n",
      "\t\tmedian: 3\n",
      "\t\tstdev: 2.808\n",
      "\tprice\n",
      "\t\tmean: 779885.905\n",
      "\t\tmedian: 595000.0\n",
      "\t\tstdev: 704113.959\n",
      "\trooms\n",
      "\t\tmean: 2.628\n",
      "\t\tmedian: 3\n",
      "\t\tstdev: 1.008\n",
      "\tsq\n",
      "\t\tmean: 62.825\n",
      "\t\tmedian: 54.3\n",
      "\t\tstdev: 99.984\n",
      "\tyear\n",
      "\t\tmean: 1995.884\n",
      "\t\tmedian: 2008\n",
      "\t\tstdev: 45.092\n",
      "poznan\n",
      "\tfloor\n",
      "\t\tmean: 2.326\n",
      "\t\tmedian: 2\n",
      "\t\tstdev: 1.975\n",
      "\tprice\n",
      "\t\tmean: 467414.007\n",
      "\t\tmedian: 429000.0\n",
      "\t\tstdev: 195297.937\n",
      "\trooms\n",
      "\t\tmean: 2.661\n",
      "\t\tmedian: 3\n",
      "\t\tstdev: 0.98\n",
      "\tsq\n",
      "\t\tmean: 61.565\n",
      "\t\tmedian: 55.21\n",
      "\t\tstdev: 133.288\n",
      "\tyear\n",
      "\t\tmean: 2003.343\n",
      "\t\tmedian: 2020\n",
      "\t\tstdev: 62.796\n"
     ]
    }
   ],
   "source": [
    "get_stats('mean', 'median', 'stdev')"
   ]
  },
  {
   "cell_type": "code",
   "execution_count": 18,
   "id": "c8149a95",
   "metadata": {},
   "outputs": [],
   "source": [
    "def quantiles(column, buckets):\n",
    "    \n",
    "    def quantiles_summary(data):\n",
    "        \n",
    "        for i, bucket in enumerate(statistics.quantiles(data[column], n=buckets)):\n",
    "            print(f'\\t{round((i + 1) / buckets * 100, 2)}%: {round(bucket, 2)}')\n",
    "            \n",
    "    apply(quantiles_summary)"
   ]
  },
  {
   "cell_type": "code",
   "execution_count": 19,
   "id": "24919a50",
   "metadata": {},
   "outputs": [
    {
     "name": "stdout",
     "output_type": "stream",
     "text": [
      "cracow\n",
      "\t25.0%: 408672.0\n",
      "\t50.0%: 501381.0\n",
      "\t75.0%: 668390.0\n",
      "warsaw\n",
      "\t25.0%: 467456.0\n",
      "\t50.0%: 595000.0\n",
      "\t75.0%: 822375.0\n",
      "poznan\n",
      "\t25.0%: 347800.0\n",
      "\t50.0%: 429000.0\n",
      "\t75.0%: 532200.0\n"
     ]
    }
   ],
   "source": [
    "quantiles('price', 4)"
   ]
  },
  {
   "cell_type": "code",
   "execution_count": 20,
   "id": "f4b8143a",
   "metadata": {},
   "outputs": [
    {
     "name": "stdout",
     "output_type": "stream",
     "text": [
      "cracow\n",
      "\t10.0%: 33.49\n",
      "\t20.0%: 38.2\n",
      "\t30.0%: 44.21\n",
      "\t40.0%: 48.8\n",
      "\t50.0%: 53.0\n",
      "\t60.0%: 58.2\n",
      "\t70.0%: 63.71\n",
      "\t80.0%: 71.0\n",
      "\t90.0%: 84.48\n",
      "warsaw\n",
      "\t10.0%: 33.2\n",
      "\t20.0%: 39.41\n",
      "\t30.0%: 45.85\n",
      "\t40.0%: 49.98\n",
      "\t50.0%: 54.3\n",
      "\t60.0%: 60.0\n",
      "\t70.0%: 66.3\n",
      "\t80.0%: 77.0\n",
      "\t90.0%: 97.7\n",
      "poznan\n",
      "\t10.0%: 33.08\n",
      "\t20.0%: 40.01\n",
      "\t30.0%: 46.06\n",
      "\t40.0%: 50.67\n",
      "\t50.0%: 55.21\n",
      "\t60.0%: 61.05\n",
      "\t70.0%: 66.51\n",
      "\t80.0%: 73.91\n",
      "\t90.0%: 87.22\n"
     ]
    }
   ],
   "source": [
    "quantiles('sq', 10)"
   ]
  },
  {
   "cell_type": "code",
   "execution_count": 21,
   "id": "960ef28a",
   "metadata": {},
   "outputs": [],
   "source": [
    "def boundary_raport(variable):\n",
    "\n",
    "    apply(lambda data: print(f\"\\tmin: {min(data[variable])}\\n\\tmax: {max(data[variable])}\"))"
   ]
  },
  {
   "cell_type": "code",
   "execution_count": 22,
   "id": "5c9ae96f",
   "metadata": {},
   "outputs": [
    {
     "name": "stdout",
     "output_type": "stream",
     "text": [
      "cracow\n",
      "\tmin: 12.0\n",
      "\tmax: 1007185.0\n",
      "warsaw\n",
      "\tmin: 11.0\n",
      "\tmax: 9000.0\n",
      "poznan\n",
      "\tmin: 13.3\n",
      "\tmax: 8065.0\n"
     ]
    }
   ],
   "source": [
    "boundary_raport('sq')"
   ]
  },
  {
   "cell_type": "code",
   "execution_count": 23,
   "id": "cfe0570e",
   "metadata": {},
   "outputs": [
    {
     "name": "stdout",
     "output_type": "stream",
     "text": [
      "cracow\n",
      "\tmin: 83000.0\n",
      "\tmax: 6400000.0\n",
      "warsaw\n",
      "\tmin: 5000.0\n",
      "\tmax: 15000000.0\n",
      "poznan\n",
      "\tmin: 29900.0\n",
      "\tmax: 2290000.0\n"
     ]
    }
   ],
   "source": [
    "boundary_raport('price')"
   ]
  },
  {
   "cell_type": "code",
   "execution_count": 24,
   "id": "648753b2",
   "metadata": {},
   "outputs": [
    {
     "name": "stdout",
     "output_type": "stream",
     "text": [
      "cracow\n",
      "warsaw\n",
      "poznan\n"
     ]
    }
   ],
   "source": [
    "def delete_outliers(data, percent=.1):\n",
    "\n",
    "    percent /= 4\n",
    "    for variable in ['sq', 'price']:\n",
    "        n = len(data[variable])\n",
    "        low, high = sorted(data[variable])[int(n*percent)], sorted(data[variable])[-int(n*percent)]\n",
    "        to_delete = [i for i in range(len(data[variable])) if data[variable][i] > high or data[variable][i] < low]\n",
    "        for i, delete_index, in enumerate(to_delete):\n",
    "            for values in data.values():\n",
    "                values.pop(delete_index - i)\n",
    "    \n",
    "apply(delete_outliers)"
   ]
  },
  {
   "cell_type": "code",
   "execution_count": 31,
   "id": "7fbd61bd",
   "metadata": {},
   "outputs": [
    {
     "name": "stdout",
     "output_type": "stream",
     "text": [
      "cracow\n",
      "\tmin: 25.23\n",
      "\tmax: 122.7\n",
      "warsaw\n",
      "\tmin: 25.0\n",
      "\tmax: 150.0\n",
      "poznan\n",
      "\tmin: 28.1\n",
      "\tmax: 120.0\n"
     ]
    }
   ],
   "source": [
    "boundary_raport('sq')"
   ]
  },
  {
   "cell_type": "code",
   "execution_count": 32,
   "id": "87fc68f2",
   "metadata": {},
   "outputs": [
    {
     "name": "stdout",
     "output_type": "stream",
     "text": [
      "cracow\n",
      "\tmin: 279202.0\n",
      "\tmax: 1257250.0\n",
      "warsaw\n",
      "\tmin: 320000.0\n",
      "\tmax: 1993000.0\n",
      "poznan\n",
      "\tmin: 254975.0\n",
      "\tmax: 870000.0\n"
     ]
    }
   ],
   "source": [
    "boundary_raport('price')"
   ]
  },
  {
   "cell_type": "markdown",
   "id": "198bb130",
   "metadata": {},
   "source": [
    "# What Next?"
   ]
  },
  {
   "cell_type": "markdown",
   "id": "3b7b8d57",
   "metadata": {},
   "source": [
    "## Feature Engineering"
   ]
  },
  {
   "cell_type": "code",
   "execution_count": 25,
   "id": "fa4dc116",
   "metadata": {},
   "outputs": [],
   "source": [
    "from scipy.stats import pearsonr\n",
    "\n",
    "\n",
    "def corr(variable, transform = lambda x: x):\n",
    "    \n",
    "    def corr_summary(data):\n",
    "        main_values = [transform(value) for value in data[variable]]\n",
    "        for column, values in data.items():\n",
    "            print(f\"\\t{column}\")\n",
    "            results = pearsonr(main_values, values)\n",
    "            print(f'\\t\\tcorrelation: {round(results[0], 3)}')\n",
    "            print(f'\\t\\tp_value: {round(results[1], 3)}')\n",
    "    \n",
    "    apply(corr_summary)"
   ]
  },
  {
   "cell_type": "code",
   "execution_count": 26,
   "id": "f81867ab",
   "metadata": {},
   "outputs": [
    {
     "name": "stdout",
     "output_type": "stream",
     "text": [
      "cracow\n",
      "\tfloor\n",
      "\t\tcorrelation: 0.041\n",
      "\t\tp_value: 0.0\n",
      "\tprice\n",
      "\t\tcorrelation: 1.0\n",
      "\t\tp_value: 0.0\n",
      "\trooms\n",
      "\t\tcorrelation: 0.486\n",
      "\t\tp_value: 0.0\n",
      "\tsq\n",
      "\t\tcorrelation: 0.725\n",
      "\t\tp_value: 0.0\n",
      "\tyear\n",
      "\t\tcorrelation: -0.058\n",
      "\t\tp_value: 0.0\n",
      "warsaw\n",
      "\tfloor\n",
      "\t\tcorrelation: 0.036\n",
      "\t\tp_value: 0.001\n",
      "\tprice\n",
      "\t\tcorrelation: 1.0\n",
      "\t\tp_value: 0.0\n",
      "\trooms\n",
      "\t\tcorrelation: 0.523\n",
      "\t\tp_value: 0.0\n",
      "\tsq\n",
      "\t\tcorrelation: 0.775\n",
      "\t\tp_value: 0.0\n",
      "\tyear\n",
      "\t\tcorrelation: 0.031\n",
      "\t\tp_value: 0.005\n",
      "poznan\n",
      "\tfloor\n",
      "\t\tcorrelation: -0.002\n",
      "\t\tp_value: 0.894\n",
      "\tprice\n",
      "\t\tcorrelation: 1.0\n",
      "\t\tp_value: 0.0\n",
      "\trooms\n",
      "\t\tcorrelation: 0.662\n",
      "\t\tp_value: 0.0\n",
      "\tsq\n",
      "\t\tcorrelation: 0.838\n",
      "\t\tp_value: 0.0\n",
      "\tyear\n",
      "\t\tcorrelation: 0.058\n",
      "\t\tp_value: 0.001\n"
     ]
    }
   ],
   "source": [
    "corr('price')"
   ]
  },
  {
   "cell_type": "markdown",
   "id": "3a86812b",
   "metadata": {},
   "source": [
    "## Build a Model"
   ]
  },
  {
   "cell_type": "markdown",
   "id": "5aa656fc",
   "metadata": {},
   "source": [
    "$$y\\approx\\overline{y}+\\beta_1\\left(x_1-\\overline{x_1}\\right)+\\beta_2\\left(x_2-\\overline{x_2}\\right),$$\n",
    "where $\\beta_i=\\frac{\\operatorname{cov}(y,x_i)\\sigma^2_{x_j}-\\operatorname{cov}(y,x_j)\\operatorname{cov}(x_i,x_j)}{\\sigma^2_{x_i}\\sigma^2_{x_j}-\\left(\\operatorname{cov}(x_i,x_j)\\right)^2}$"
   ]
  },
  {
   "cell_type": "code",
   "execution_count": 27,
   "id": "ab0c6bbd",
   "metadata": {},
   "outputs": [],
   "source": [
    "from math import sqrt, log, exp\n",
    "from numpy import cov\n",
    "\n",
    "covariance = lambda x, y: cov(x, y)[1, 0]\n",
    "\n",
    "class LinearModel:\n",
    "    \n",
    "    def __init__(self):\n",
    "        \n",
    "        self.b_sq = 0\n",
    "        self.b_rooms = 0\n",
    "        \n",
    "        self.mean_price = 0\n",
    "        self.mean_sq = 0\n",
    "        self.mean_rooms = 0\n",
    "        \n",
    "        self.error = 0\n",
    "    \n",
    "    def fit(self, price, sq, rooms):\n",
    "        \n",
    "        log_price = [log(p) for p in price]\n",
    "        self.mean_price = statistics.mean(log_price)\n",
    "        self.mean_sq = statistics.mean(sq)\n",
    "        self.mean_rooms = statistics.mean(rooms)\n",
    "        \n",
    "        denominator = statistics.variance(sq) * statistics.variance(rooms) - covariance(sq, rooms) ** 2\n",
    "        self.b_sq = (covariance(log_price, sq) * statistics.variance(rooms) - \n",
    "                     covariance(log_price, rooms) * covariance(sq, rooms)) / denominator\n",
    "        self.b_rooms = (covariance(log_price, rooms) * statistics.variance(sq) - \n",
    "                        covariance(log_price, sq) * covariance(sq, rooms)) / denominator\n",
    "        \n",
    "        self.error = sqrt(statistics.mean([(price[i] - self.predict(sq[i], rooms[i])) ** 2 for i in range(len(price))]))\n",
    "        \n",
    "        return self.error\n",
    "        \n",
    "    def predict(self, sq, rooms):\n",
    "        \n",
    "        return exp(self.mean_price + self.b_sq * (sq - self.mean_sq) + self.b_rooms * (rooms - self.mean_rooms))\n",
    "        \n",
    "    def predict_interval(self, sq, rooms):\n",
    "        \n",
    "        mean_point = self.predict(sq, rooms)\n",
    "        \n",
    "        return dict(mean=mean_point, interval=(mean_point - self.error, mean_point + self.error))"
   ]
  },
  {
   "cell_type": "markdown",
   "id": "38c0944b",
   "metadata": {},
   "source": [
    "## Evaluate"
   ]
  },
  {
   "cell_type": "code",
   "execution_count": 28,
   "id": "d31a5e85",
   "metadata": {},
   "outputs": [
    {
     "name": "stdout",
     "output_type": "stream",
     "text": [
      "cracow\n",
      "\t132951.62462744158\n",
      "warsaw\n",
      "\t202825.78651233946\n",
      "poznan\n",
      "\t71780.2031742544\n"
     ]
    }
   ],
   "source": [
    "def model_summary(data):\n",
    "    \n",
    "    model = LinearModel()\n",
    "    print(f'\\t{model.fit(data[\"price\"], data[\"sq\"], data[\"rooms\"])}')\n",
    "    \n",
    "apply(model_summary)"
   ]
  },
  {
   "cell_type": "markdown",
   "id": "449308e9",
   "metadata": {},
   "source": [
    "# Answer Questions"
   ]
  },
  {
   "cell_type": "code",
   "execution_count": 29,
   "id": "dbe21c4d",
   "metadata": {},
   "outputs": [],
   "source": [
    "def cost(sq, rooms):\n",
    "\n",
    "    def summary(data):\n",
    "\n",
    "        model = LinearModel()\n",
    "        model.fit(data[\"price\"], data[\"sq\"], data[\"rooms\"])\n",
    "        print(f'\\t{model.predict_interval(sq, rooms)}')\n",
    "    \n",
    "    apply(summary)"
   ]
  },
  {
   "cell_type": "code",
   "execution_count": 30,
   "id": "d146eab4",
   "metadata": {},
   "outputs": [
    {
     "name": "stdout",
     "output_type": "stream",
     "text": [
      "cracow\n",
      "\t{'mean': 501505.65268695034, 'interval': (368554.02805950877, 634457.2773143919)}\n",
      "warsaw\n",
      "\t{'mean': 571387.8918750541, 'interval': (368562.1053627146, 774213.6783873936)}\n",
      "poznan\n",
      "\t{'mean': 389873.2881781801, 'interval': (318093.0850039257, 461653.4913524345)}\n"
     ]
    }
   ],
   "source": [
    "cost(50, 2)"
   ]
  }
 ],
 "metadata": {
  "celltoolbar": "Hide code",
  "kernelspec": {
   "display_name": "Python [conda env:lectures]",
   "language": "python",
   "name": "conda-env-lectures-py"
  },
  "language_info": {
   "codemirror_mode": {
    "name": "ipython",
    "version": 3
   },
   "file_extension": ".py",
   "mimetype": "text/x-python",
   "name": "python",
   "nbconvert_exporter": "python",
   "pygments_lexer": "ipython3",
   "version": "3.9.11"
  }
 },
 "nbformat": 4,
 "nbformat_minor": 5
}
