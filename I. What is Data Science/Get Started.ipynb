{
 "cells": [
  {
   "cell_type": "markdown",
   "id": "78739676",
   "metadata": {},
   "source": [
    "# Technical Requirements\n",
    "\n",
    "- Python (preferably 3.9)\n",
    "- Jupyter\n",
    "- Anaconda\n",
    "- git (just for your convenience)\n",
    "- Stable internet connection"
   ]
  },
  {
   "cell_type": "markdown",
   "id": "cf7aaf3a",
   "metadata": {},
   "source": [
    "# Anaconda Walkthrough\n",
    "\n",
    "[![anaconda](media\\anaconda.png)](https://www.anaconda.com/products/distribution)"
   ]
  },
  {
   "cell_type": "markdown",
   "id": "96237f29",
   "metadata": {},
   "source": [
    "    conda install notebook\n",
    "    conda install nb_conda_kernels"
   ]
  },
  {
   "cell_type": "markdown",
   "id": "cff839d5",
   "metadata": {},
   "source": [
    "# How to Get Started?"
   ]
  },
  {
   "cell_type": "markdown",
   "id": "77c11165",
   "metadata": {},
   "source": [
    "## Problem Definition\n",
    "\n",
    "<img src=\"media\\student.png\"/>\n",
    "\n",
    "### How to choose proper place to rent an apartment as a student in Poland?"
   ]
  },
  {
   "cell_type": "markdown",
   "id": "2e0f1205",
   "metadata": {},
   "source": [
    "![learning](media\\learning.png)"
   ]
  },
  {
   "cell_type": "markdown",
   "id": "12d64e17",
   "metadata": {},
   "source": [
    "## The Most Important... DATA\n",
    "\n",
    "[![kaggle](media\\kaggle.png)](https://www.kaggle.com/datasets/dawidcegielski/house-prices-in-poland)"
   ]
  },
  {
   "cell_type": "code",
   "execution_count": 4,
   "id": "f74172db",
   "metadata": {},
   "outputs": [],
   "source": [
    "# imports\n",
    "import os\n",
    "import json\n",
    "\n",
    "# define city\n",
    "city = 'warsaw'"
   ]
  },
  {
   "cell_type": "code",
   "execution_count": 21,
   "id": "c3f71657",
   "metadata": {},
   "outputs": [],
   "source": [
    "# load data\n",
    "\n",
    "with open(os.path.join('data', f'{city}.json'), 'r') as json_file:\n",
    "    data = json.load(json_file)"
   ]
  },
  {
   "cell_type": "code",
   "execution_count": 6,
   "id": "28973002",
   "metadata": {},
   "outputs": [
    {
     "data": {
      "text/plain": [
       "dict_keys(['floor', 'price', 'rooms', 'sq', 'year'])"
      ]
     },
     "execution_count": 6,
     "metadata": {},
     "output_type": "execute_result"
    }
   ],
   "source": [
    "# look for columns\n",
    "columns = data.keys()\n",
    "columns"
   ]
  },
  {
   "cell_type": "markdown",
   "id": "a511085c",
   "metadata": {},
   "source": [
    "## Data Quality "
   ]
  },
  {
   "cell_type": "code",
   "execution_count": 19,
   "id": "9b4fe75a",
   "metadata": {},
   "outputs": [
    {
     "name": "stdout",
     "output_type": "stream",
     "text": [
      "floor: 8030\n",
      "price: 8030\n",
      "rooms: 8030\n",
      "sq: 8030\n",
      "year: 8030\n"
     ]
    }
   ],
   "source": [
    "# count values\n",
    "\n",
    "for column, values in data.items():\n",
    "    print(f'{column}: {len(values)}')"
   ]
  },
  {
   "cell_type": "code",
   "execution_count": 8,
   "id": "23c3c4fa",
   "metadata": {},
   "outputs": [],
   "source": [
    "# count nans\n",
    "\n",
    "from numpy import isnan\n",
    "\n",
    "def nans_summary(data):\n",
    "    \n",
    "    for column, values in data.items():\n",
    "        print(f'{column}: {sum([isnan(value) for value in values])}')"
   ]
  },
  {
   "cell_type": "code",
   "execution_count": 9,
   "id": "c8f9d255",
   "metadata": {},
   "outputs": [
    {
     "name": "stdout",
     "output_type": "stream",
     "text": [
      "floor: 0\n",
      "price: 835\n",
      "rooms: 0\n",
      "sq: 0\n",
      "year: 0\n"
     ]
    }
   ],
   "source": [
    "nans_summary(data)"
   ]
  },
  {
   "cell_type": "code",
   "execution_count": 10,
   "id": "3cedbf9b",
   "metadata": {},
   "outputs": [],
   "source": [
    "# sign check\n",
    "\n",
    "def negatives_summary(data):\n",
    "    \n",
    "    for column, values in data.items():\n",
    "        print(f'{column}: {sum([value < 0 for value in values])}')"
   ]
  },
  {
   "cell_type": "code",
   "execution_count": 11,
   "id": "87a88653",
   "metadata": {},
   "outputs": [
    {
     "name": "stdout",
     "output_type": "stream",
     "text": [
      "floor: 0\n",
      "price: 0\n",
      "rooms: 0\n",
      "sq: 0\n",
      "year: 0\n"
     ]
    }
   ],
   "source": [
    "negatives_summary(data)"
   ]
  },
  {
   "cell_type": "code",
   "execution_count": 12,
   "id": "2661436c",
   "metadata": {},
   "outputs": [],
   "source": [
    "# time check\n",
    "\n",
    "time_summary = lambda data: print(f\"min year: {min(data['year'])}\\nmax year: {max(data['year'])}\")"
   ]
  },
  {
   "cell_type": "code",
   "execution_count": 13,
   "id": "7b4817a2",
   "metadata": {},
   "outputs": [
    {
     "name": "stdout",
     "output_type": "stream",
     "text": [
      "min year: 75\n",
      "max year: 2980\n"
     ]
    }
   ],
   "source": [
    "time_summary(data)"
   ]
  },
  {
   "cell_type": "markdown",
   "id": "061230db",
   "metadata": {},
   "source": [
    "## Data Processing"
   ]
  },
  {
   "cell_type": "code",
   "execution_count": 22,
   "id": "c639612a",
   "metadata": {},
   "outputs": [],
   "source": [
    "# delete nans\n",
    "\n",
    "nan_index = [i for i, price in enumerate(data['price']) if isnan(price)]\n",
    "for i, index in enumerate(nan_index):\n",
    "    for values in data.values():\n",
    "        values.pop(index - i)"
   ]
  },
  {
   "cell_type": "code",
   "execution_count": 23,
   "id": "6932b998",
   "metadata": {},
   "outputs": [
    {
     "name": "stdout",
     "output_type": "stream",
     "text": [
      "floor: 0\n",
      "price: 0\n",
      "rooms: 0\n",
      "sq: 0\n",
      "year: 0\n"
     ]
    }
   ],
   "source": [
    "# check nans again\n",
    "nans_summary(data)"
   ]
  },
  {
   "cell_type": "code",
   "execution_count": 24,
   "id": "dcb409b3",
   "metadata": {},
   "outputs": [],
   "source": [
    "# delete future\n",
    "\n",
    "future_index = [i for i, year in enumerate(data['year']) if year > 2022]\n",
    "for i, index in enumerate(future_index):\n",
    "    for values in data.values():\n",
    "        values.pop(index - i)"
   ]
  },
  {
   "cell_type": "code",
   "execution_count": 25,
   "id": "7c5e8d9a",
   "metadata": {},
   "outputs": [
    {
     "name": "stdout",
     "output_type": "stream",
     "text": [
      "min year: 75\n",
      "max year: 2022\n"
     ]
    }
   ],
   "source": [
    "# check time again\n",
    "time_summary(data)"
   ]
  },
  {
   "cell_type": "markdown",
   "id": "138e6d84",
   "metadata": {},
   "source": [
    "## Get Insights"
   ]
  },
  {
   "cell_type": "code",
   "execution_count": 26,
   "id": "d75ddf82",
   "metadata": {},
   "outputs": [],
   "source": [
    "# import stats\n",
    "\n",
    "import statistics"
   ]
  },
  {
   "cell_type": "code",
   "execution_count": 28,
   "id": "d741baf2",
   "metadata": {},
   "outputs": [
    {
     "name": "stdout",
     "output_type": "stream",
     "text": [
      "floor\n",
      "\tmean: 3.284\n",
      "\tmedian: 3\n",
      "\tstdev: 2.815\n",
      "price\n",
      "\tmean: 781558.535\n",
      "\tmedian: 595000.0\n",
      "\tstdev: 706680.291\n",
      "rooms\n",
      "\tmean: 2.632\n",
      "\tmedian: 3\n",
      "\tstdev: 1.009\n",
      "sq\n",
      "\tmean: 63.108\n",
      "\tmedian: 54.39\n",
      "\tstdev: 104.903\n",
      "year\n",
      "\tmean: 1995.974\n",
      "\tmedian: 2008\n",
      "\tstdev: 42.18\n"
     ]
    }
   ],
   "source": [
    "# get statistics\n",
    "\n",
    "for column, values in data.items():\n",
    "    print(column)\n",
    "    for stat in (statistics.mean, statistics.median, statistics.stdev):\n",
    "        print(f'\\t{stat.__name__}:', round(stat(values), 3))"
   ]
  },
  {
   "cell_type": "code",
   "execution_count": 29,
   "id": "770e931a",
   "metadata": {},
   "outputs": [],
   "source": [
    "# quartiles\n",
    "\n",
    "def quartiles(data, column):\n",
    "    \n",
    "    for i, bucket in enumerate(statistics.quantiles(data[column])):\n",
    "        print(f'\\t{round((1 + i) / 4 * 100)}%: {round(bucket, 3)}')"
   ]
  },
  {
   "cell_type": "code",
   "execution_count": 30,
   "id": "6e8826da",
   "metadata": {},
   "outputs": [
    {
     "name": "stdout",
     "output_type": "stream",
     "text": [
      "\t25%: 468750.0\n",
      "\t50%: 595000.0\n",
      "\t75%: 820000.0\n"
     ]
    }
   ],
   "source": [
    "quartiles(data, 'price')"
   ]
  },
  {
   "cell_type": "code",
   "execution_count": 31,
   "id": "8bc3ebb2",
   "metadata": {},
   "outputs": [
    {
     "name": "stdout",
     "output_type": "stream",
     "text": [
      "\t25%: 43.0\n",
      "\t50%: 54.39\n",
      "\t75%: 71.0\n"
     ]
    }
   ],
   "source": [
    "quartiles(data, 'sq')"
   ]
  },
  {
   "cell_type": "code",
   "execution_count": 32,
   "id": "90152685",
   "metadata": {},
   "outputs": [],
   "source": [
    "# boundary values\n",
    "\n",
    "boundaries = lambda data, column: print(f\"min: {min(data[column])}\\nmax: {max(data[column])}\")"
   ]
  },
  {
   "cell_type": "code",
   "execution_count": 33,
   "id": "6c94a386",
   "metadata": {},
   "outputs": [
    {
     "name": "stdout",
     "output_type": "stream",
     "text": [
      "min: 5000.0\n",
      "max: 15000000.0\n"
     ]
    }
   ],
   "source": [
    "boundaries(data, 'price')"
   ]
  },
  {
   "cell_type": "code",
   "execution_count": 34,
   "id": "7b507f73",
   "metadata": {},
   "outputs": [
    {
     "name": "stdout",
     "output_type": "stream",
     "text": [
      "min: 11.0\n",
      "max: 9000.0\n"
     ]
    }
   ],
   "source": [
    "boundaries(data, 'sq')"
   ]
  },
  {
   "cell_type": "code",
   "execution_count": 35,
   "id": "2585bad9",
   "metadata": {},
   "outputs": [],
   "source": [
    "# delete outliers\n",
    "\n",
    "def delete_outliers(data, column, percent=.1):\n",
    "    \n",
    "    percent /= 2\n",
    "    n = len(data[column])\n",
    "    low, high = sorted(data[column])[int(percent*n)], sorted(data[column])[-int(percent*n)]\n",
    "    to_delete = [i for i in range(len(data[column])) if data[column][i] < low or data[column][i] > high]\n",
    "    for i, delete_index in enumerate(to_delete):\n",
    "        for values in data.values():\n",
    "            values.pop(delete_index - i)"
   ]
  },
  {
   "cell_type": "code",
   "execution_count": 36,
   "id": "4ca98789",
   "metadata": {},
   "outputs": [],
   "source": [
    "delete_outliers(data, 'price')"
   ]
  },
  {
   "cell_type": "code",
   "execution_count": 38,
   "id": "add5405d",
   "metadata": {},
   "outputs": [],
   "source": [
    "delete_outliers(data, 'sq')"
   ]
  },
  {
   "cell_type": "code",
   "execution_count": 39,
   "id": "e53c1cdb",
   "metadata": {},
   "outputs": [
    {
     "name": "stdout",
     "output_type": "stream",
     "text": [
      "min: 330000.0\n",
      "max: 1800000.0\n"
     ]
    }
   ],
   "source": [
    "# check boundary again\n",
    "boundaries(data, 'price')"
   ]
  },
  {
   "cell_type": "code",
   "execution_count": 40,
   "id": "54167c48",
   "metadata": {},
   "outputs": [
    {
     "name": "stdout",
     "output_type": "stream",
     "text": [
      "min: 30.9\n",
      "max: 104.0\n"
     ]
    }
   ],
   "source": [
    "boundaries(data, 'sq')"
   ]
  },
  {
   "cell_type": "markdown",
   "id": "198bb130",
   "metadata": {},
   "source": [
    "# What Next?"
   ]
  },
  {
   "cell_type": "markdown",
   "id": "3b7b8d57",
   "metadata": {},
   "source": [
    "## Feature Engineering"
   ]
  },
  {
   "cell_type": "code",
   "execution_count": 42,
   "id": "0d75f193",
   "metadata": {},
   "outputs": [
    {
     "name": "stdout",
     "output_type": "stream",
     "text": [
      "floor\n",
      "\tcorrelation: 0.03\n",
      "\tp_value: 0.017\n",
      "price\n",
      "\tcorrelation: 1.0\n",
      "\tp_value: 0.0\n",
      "rooms\n",
      "\tcorrelation: 0.413\n",
      "\tp_value: 0.0\n",
      "sq\n",
      "\tcorrelation: 0.716\n",
      "\tp_value: 0.0\n",
      "year\n",
      "\tcorrelation: 0.015\n",
      "\tp_value: 0.239\n"
     ]
    }
   ],
   "source": [
    "# correlation test\n",
    "from scipy.stats import pearsonr\n",
    "\n",
    "for column, values in data.items():\n",
    "    print(f'{column}')\n",
    "    results = pearsonr(data['price'], values)\n",
    "    print(f'\\tcorrelation: {round(results[0], 3)}')\n",
    "    print(f'\\tp_value: {round(results[1], 3)}')"
   ]
  },
  {
   "cell_type": "markdown",
   "id": "3a86812b",
   "metadata": {},
   "source": [
    "## Build a Model"
   ]
  },
  {
   "cell_type": "markdown",
   "id": "0e7de58d",
   "metadata": {},
   "source": [
    "$$y\\approx\\overline{y}+\\beta_1\\left(x_1-\\overline{x_1}\\right)+\\beta_2\\left(x_2-\\overline{x_2}\\right),$$\n",
    "where $\\beta_i=\\frac{\\operatorname{cov}(y,x_i)\\sigma^2_{x_j}-\\operatorname{cov}(y,x_j)\\operatorname{cov}(x_i,x_j)}{\\sigma^2_{x_i}\\sigma^2_{x_j}-\\left(\\operatorname{cov}(x_i,x_j)\\right)^2}$"
   ]
  },
  {
   "cell_type": "code",
   "execution_count": 52,
   "id": "e79efcb1",
   "metadata": {},
   "outputs": [],
   "source": [
    "# model\n",
    "\n"
   ]
  },
  {
   "cell_type": "markdown",
   "id": "38c0944b",
   "metadata": {},
   "source": [
    "## Evaluate"
   ]
  },
  {
   "cell_type": "code",
   "execution_count": 53,
   "id": "f9cf2464",
   "metadata": {},
   "outputs": [],
   "source": [
    "# train loss\n"
   ]
  },
  {
   "cell_type": "code",
   "execution_count": 54,
   "id": "183ff69e",
   "metadata": {},
   "outputs": [],
   "source": [
    "# test loss\n"
   ]
  },
  {
   "cell_type": "markdown",
   "id": "449308e9",
   "metadata": {},
   "source": [
    "# Answer Questions"
   ]
  },
  {
   "cell_type": "code",
   "execution_count": 55,
   "id": "dbe21c4d",
   "metadata": {},
   "outputs": [],
   "source": [
    "# what is the final cost\n"
   ]
  },
  {
   "cell_type": "markdown",
   "id": "eccec09d",
   "metadata": {},
   "source": [
    "# Homework"
   ]
  },
  {
   "cell_type": "markdown",
   "id": "ac019501",
   "metadata": {},
   "source": [
    "[![avocado](media\\avocado.jpg)](https://www.kaggle.com/datasets/neuromusic/avocado-prices)"
   ]
  }
 ],
 "metadata": {
  "kernelspec": {
   "display_name": "Python [conda env:DIY] *",
   "language": "python",
   "name": "conda-env-DIY-py"
  },
  "language_info": {
   "codemirror_mode": {
    "name": "ipython",
    "version": 3
   },
   "file_extension": ".py",
   "mimetype": "text/x-python",
   "name": "python",
   "nbconvert_exporter": "python",
   "pygments_lexer": "ipython3",
   "version": "3.9.12"
  }
 },
 "nbformat": 4,
 "nbformat_minor": 5
}
