{
 "cells": [
  {
   "cell_type": "markdown",
   "id": "d7e2acb7",
   "metadata": {},
   "source": [
    "# Pandas\n",
    "\n",
    "![logo](media\\pandas.png)"
   ]
  },
  {
   "cell_type": "code",
   "execution_count": 1,
   "id": "f294d141",
   "metadata": {},
   "outputs": [],
   "source": [
    "import pandas as pd"
   ]
  },
  {
   "cell_type": "markdown",
   "id": "fa694db4",
   "metadata": {},
   "source": [
    "## DataFrame"
   ]
  },
  {
   "cell_type": "markdown",
   "id": "a69be45a",
   "metadata": {},
   "source": [
    "![dataframe](media\\dataframe.svg)"
   ]
  },
  {
   "cell_type": "code",
   "execution_count": null,
   "id": "d0d2d728",
   "metadata": {},
   "outputs": [],
   "source": []
  },
  {
   "cell_type": "code",
   "execution_count": null,
   "id": "d7b8ccbd",
   "metadata": {},
   "outputs": [],
   "source": []
  },
  {
   "cell_type": "code",
   "execution_count": null,
   "id": "f0363a27",
   "metadata": {},
   "outputs": [],
   "source": []
  },
  {
   "cell_type": "code",
   "execution_count": null,
   "id": "748932c6",
   "metadata": {},
   "outputs": [],
   "source": []
  },
  {
   "cell_type": "code",
   "execution_count": null,
   "id": "fec8869d",
   "metadata": {},
   "outputs": [],
   "source": []
  },
  {
   "cell_type": "code",
   "execution_count": null,
   "id": "dd4f7401",
   "metadata": {},
   "outputs": [],
   "source": []
  },
  {
   "cell_type": "code",
   "execution_count": null,
   "id": "0f0cfefb",
   "metadata": {},
   "outputs": [],
   "source": []
  },
  {
   "cell_type": "code",
   "execution_count": null,
   "id": "9cf80a37",
   "metadata": {},
   "outputs": [],
   "source": []
  },
  {
   "cell_type": "markdown",
   "id": "bf26b98e",
   "metadata": {},
   "source": [
    "## Loading data"
   ]
  },
  {
   "cell_type": "markdown",
   "id": "ecc7dc3f",
   "metadata": {},
   "source": [
    "[Input/Output in Pandas](https://pandas.pydata.org/docs/reference/io.html)"
   ]
  },
  {
   "cell_type": "code",
   "execution_count": 2,
   "id": "941d5d51",
   "metadata": {},
   "outputs": [],
   "source": [
    "import os\n",
    "\n"
   ]
  },
  {
   "cell_type": "code",
   "execution_count": null,
   "id": "4748c1fc",
   "metadata": {},
   "outputs": [],
   "source": []
  },
  {
   "cell_type": "code",
   "execution_count": null,
   "id": "5dfbc701",
   "metadata": {},
   "outputs": [],
   "source": []
  },
  {
   "cell_type": "code",
   "execution_count": null,
   "id": "f335124a",
   "metadata": {
    "scrolled": true
   },
   "outputs": [],
   "source": []
  },
  {
   "cell_type": "markdown",
   "id": "2f5183fd",
   "metadata": {},
   "source": [
    "## Data Types"
   ]
  },
  {
   "cell_type": "code",
   "execution_count": null,
   "id": "abe3d5c6",
   "metadata": {},
   "outputs": [],
   "source": []
  },
  {
   "cell_type": "code",
   "execution_count": null,
   "id": "8bed3db2",
   "metadata": {},
   "outputs": [],
   "source": []
  },
  {
   "cell_type": "code",
   "execution_count": null,
   "id": "0a715a58",
   "metadata": {},
   "outputs": [],
   "source": []
  },
  {
   "cell_type": "code",
   "execution_count": null,
   "id": "191eb98e",
   "metadata": {},
   "outputs": [],
   "source": []
  },
  {
   "cell_type": "markdown",
   "id": "dd981751",
   "metadata": {},
   "source": [
    "## Slicing"
   ]
  },
  {
   "cell_type": "code",
   "execution_count": null,
   "id": "dbc5f6a2",
   "metadata": {},
   "outputs": [],
   "source": []
  },
  {
   "cell_type": "code",
   "execution_count": null,
   "id": "34d4180e",
   "metadata": {},
   "outputs": [],
   "source": []
  },
  {
   "cell_type": "code",
   "execution_count": null,
   "id": "4ee08828",
   "metadata": {},
   "outputs": [],
   "source": []
  },
  {
   "cell_type": "code",
   "execution_count": null,
   "id": "d7145883",
   "metadata": {},
   "outputs": [],
   "source": []
  },
  {
   "cell_type": "markdown",
   "id": "593a7d35",
   "metadata": {},
   "source": [
    "## Summarize"
   ]
  },
  {
   "cell_type": "code",
   "execution_count": null,
   "id": "4274972d",
   "metadata": {},
   "outputs": [],
   "source": []
  },
  {
   "cell_type": "code",
   "execution_count": null,
   "id": "1bad6b2c",
   "metadata": {},
   "outputs": [],
   "source": []
  },
  {
   "cell_type": "code",
   "execution_count": null,
   "id": "bf3e1c8f",
   "metadata": {
    "scrolled": true
   },
   "outputs": [],
   "source": []
  },
  {
   "cell_type": "code",
   "execution_count": 3,
   "id": "94746393",
   "metadata": {},
   "outputs": [
    {
     "ename": "NameError",
     "evalue": "name 'df' is not defined",
     "output_type": "error",
     "traceback": [
      "\u001b[1;31m---------------------------------------------------------------------------\u001b[0m",
      "\u001b[1;31mNameError\u001b[0m                                 Traceback (most recent call last)",
      "Input \u001b[1;32mIn [3]\u001b[0m, in \u001b[0;36m<cell line: 1>\u001b[1;34m()\u001b[0m\n\u001b[1;32m----> 1\u001b[0m \u001b[43mdf\u001b[49m\u001b[38;5;241m.\u001b[39mdescribe()\n",
      "\u001b[1;31mNameError\u001b[0m: name 'df' is not defined"
     ]
    }
   ],
   "source": [
    "df.describe()"
   ]
  },
  {
   "cell_type": "code",
   "execution_count": null,
   "id": "3fe02740",
   "metadata": {},
   "outputs": [],
   "source": []
  },
  {
   "cell_type": "code",
   "execution_count": null,
   "id": "ef2d45fa",
   "metadata": {},
   "outputs": [],
   "source": []
  },
  {
   "cell_type": "markdown",
   "id": "2d1fb5a8",
   "metadata": {},
   "source": [
    "## Transform"
   ]
  },
  {
   "cell_type": "code",
   "execution_count": null,
   "id": "90b6bf1c",
   "metadata": {},
   "outputs": [],
   "source": []
  },
  {
   "cell_type": "code",
   "execution_count": null,
   "id": "9f40d5ab",
   "metadata": {},
   "outputs": [],
   "source": [
    "import numpy as np\n",
    "\n"
   ]
  },
  {
   "cell_type": "code",
   "execution_count": null,
   "id": "32c920a0",
   "metadata": {},
   "outputs": [],
   "source": []
  },
  {
   "cell_type": "code",
   "execution_count": null,
   "id": "9e9364cd",
   "metadata": {},
   "outputs": [],
   "source": []
  },
  {
   "cell_type": "markdown",
   "id": "1c6abb43",
   "metadata": {},
   "source": [
    "## Long/Wide Format"
   ]
  },
  {
   "cell_type": "code",
   "execution_count": null,
   "id": "33454151",
   "metadata": {},
   "outputs": [],
   "source": []
  },
  {
   "cell_type": "code",
   "execution_count": null,
   "id": "029edf30",
   "metadata": {},
   "outputs": [],
   "source": []
  },
  {
   "cell_type": "code",
   "execution_count": null,
   "id": "e3f4e079",
   "metadata": {
    "scrolled": true
   },
   "outputs": [],
   "source": []
  },
  {
   "cell_type": "code",
   "execution_count": null,
   "id": "26b15b7c",
   "metadata": {},
   "outputs": [],
   "source": []
  },
  {
   "cell_type": "code",
   "execution_count": null,
   "id": "7edc2341",
   "metadata": {},
   "outputs": [],
   "source": []
  },
  {
   "cell_type": "code",
   "execution_count": null,
   "id": "5771795c",
   "metadata": {},
   "outputs": [],
   "source": []
  },
  {
   "cell_type": "markdown",
   "id": "b53e3535",
   "metadata": {},
   "source": [
    "## Nulls"
   ]
  },
  {
   "cell_type": "code",
   "execution_count": null,
   "id": "dd54d9c9",
   "metadata": {},
   "outputs": [],
   "source": []
  },
  {
   "cell_type": "code",
   "execution_count": null,
   "id": "5913385b",
   "metadata": {},
   "outputs": [],
   "source": []
  },
  {
   "cell_type": "code",
   "execution_count": null,
   "id": "ccbc39d5",
   "metadata": {},
   "outputs": [],
   "source": []
  },
  {
   "cell_type": "code",
   "execution_count": null,
   "id": "c2c8905f",
   "metadata": {},
   "outputs": [],
   "source": []
  },
  {
   "cell_type": "code",
   "execution_count": null,
   "id": "c5acde64",
   "metadata": {},
   "outputs": [],
   "source": []
  },
  {
   "cell_type": "code",
   "execution_count": null,
   "id": "a8ed4119",
   "metadata": {},
   "outputs": [],
   "source": []
  },
  {
   "cell_type": "code",
   "execution_count": null,
   "id": "cb0aa7c3",
   "metadata": {},
   "outputs": [],
   "source": []
  },
  {
   "cell_type": "code",
   "execution_count": null,
   "id": "c07dd370",
   "metadata": {},
   "outputs": [],
   "source": []
  },
  {
   "cell_type": "markdown",
   "id": "4688ba36",
   "metadata": {},
   "source": [
    "## Dates"
   ]
  },
  {
   "cell_type": "code",
   "execution_count": 28,
   "id": "8a11cd61",
   "metadata": {},
   "outputs": [
    {
     "data": {
      "text/plain": [
       "0   1994-01-01\n",
       "1   1972-01-01\n",
       "2   2008-01-01\n",
       "3   1974-01-01\n",
       "4   1957-01-01\n",
       "Name: Released_Year, dtype: datetime64[ns]"
      ]
     },
     "execution_count": 28,
     "metadata": {},
     "output_type": "execute_result"
    }
   ],
   "source": [
    "dates = pd.to_datetime(df.Released_Year, format='%Y')\n",
    "dates.head()"
   ]
  },
  {
   "cell_type": "code",
   "execution_count": 29,
   "id": "5f871d72",
   "metadata": {},
   "outputs": [
    {
     "data": {
      "text/plain": [
       "0            NaT\n",
       "1     1994-01-01\n",
       "2     1972-01-01\n",
       "3     2008-01-01\n",
       "4     1974-01-01\n",
       "         ...    \n",
       "990   1973-01-01\n",
       "991   1971-01-01\n",
       "992   1970-01-01\n",
       "994   1967-01-01\n",
       "997   1964-01-01\n",
       "Name: Released_Year, Length: 713, dtype: datetime64[ns]"
      ]
     },
     "execution_count": 29,
     "metadata": {},
     "output_type": "execute_result"
    }
   ],
   "source": [
    "dates.shift(1)"
   ]
  },
  {
   "cell_type": "code",
   "execution_count": 30,
   "id": "7031222d",
   "metadata": {},
   "outputs": [
    {
     "data": {
      "text/plain": [
       "0             NaT\n",
       "1      -8036 days\n",
       "2      13149 days\n",
       "3     -12418 days\n",
       "4      -6209 days\n",
       "          ...    \n",
       "990     -731 days\n",
       "991     -365 days\n",
       "992    -1096 days\n",
       "994    -1096 days\n",
       "997    -4017 days\n",
       "Name: Released_Year, Length: 713, dtype: timedelta64[ns]"
      ]
     },
     "execution_count": 30,
     "metadata": {},
     "output_type": "execute_result"
    }
   ],
   "source": [
    "dates - dates.shift(1)"
   ]
  },
  {
   "cell_type": "code",
   "execution_count": 35,
   "id": "e5edb71a",
   "metadata": {},
   "outputs": [
    {
     "data": {
      "text/plain": [
       "0      1994\n",
       "1      1972\n",
       "2      2008\n",
       "3      1974\n",
       "4      1957\n",
       "       ... \n",
       "990    1971\n",
       "991    1970\n",
       "992    1967\n",
       "994    1964\n",
       "997    1953\n",
       "Name: Released_Year, Length: 713, dtype: period[A-DEC]"
      ]
     },
     "execution_count": 35,
     "metadata": {},
     "output_type": "execute_result"
    }
   ],
   "source": [
    "periods = dates.dt.to_period('Y')\n",
    "periods"
   ]
  },
  {
   "cell_type": "code",
   "execution_count": 39,
   "id": "e1502173",
   "metadata": {},
   "outputs": [
    {
     "data": {
      "text/plain": [
       "0                             NaT\n",
       "1      <-22 * YearEnds: month=12>\n",
       "2       <36 * YearEnds: month=12>\n",
       "3      <-34 * YearEnds: month=12>\n",
       "4      <-17 * YearEnds: month=12>\n",
       "                  ...            \n",
       "990     <-2 * YearEnds: month=12>\n",
       "991      <-1 * YearEnd: month=12>\n",
       "992     <-3 * YearEnds: month=12>\n",
       "994     <-3 * YearEnds: month=12>\n",
       "997    <-11 * YearEnds: month=12>\n",
       "Name: Released_Year, Length: 713, dtype: object"
      ]
     },
     "execution_count": 39,
     "metadata": {},
     "output_type": "execute_result"
    }
   ],
   "source": [
    "diffs = periods - periods.shift(1)\n",
    "diffs"
   ]
  },
  {
   "cell_type": "code",
   "execution_count": 41,
   "id": "0ab0007e",
   "metadata": {},
   "outputs": [
    {
     "data": {
      "text/plain": [
       "-22"
      ]
     },
     "execution_count": 41,
     "metadata": {},
     "output_type": "execute_result"
    }
   ],
   "source": [
    "diffs[1].n"
   ]
  },
  {
   "cell_type": "code",
   "execution_count": 42,
   "id": "2048ee8f",
   "metadata": {},
   "outputs": [],
   "source": [
    "df.Released_Year = pd.to_datetime(df.Released_Year, format='%Y')"
   ]
  },
  {
   "cell_type": "code",
   "execution_count": 46,
   "id": "fc8c7463",
   "metadata": {},
   "outputs": [
    {
     "data": {
      "text/plain": [
       "<AxesSubplot:xlabel='Released_Year'>"
      ]
     },
     "execution_count": 46,
     "metadata": {},
     "output_type": "execute_result"
    },
    {
     "data": {
      "image/png": "[encoded data removed]",
      "text/plain": [
       "<Figure size 432x288 with 1 Axes>"
      ]
     },
     "metadata": {
      "needs_background": "light"
     },
     "output_type": "display_data"
    }
   ],
   "source": [
    "df.plot(x='Released_Year', y='No_of_Votes')"
   ]
  },
  {
   "cell_type": "code",
   "execution_count": null,
   "id": "b474500a",
   "metadata": {},
   "outputs": [],
   "source": []
  },
  {
   "cell_type": "markdown",
   "id": "96752c06",
   "metadata": {},
   "source": [
    "## Group"
   ]
  },
  {
   "cell_type": "code",
   "execution_count": null,
   "id": "2acaa9c0",
   "metadata": {},
   "outputs": [],
   "source": []
  },
  {
   "cell_type": "code",
   "execution_count": null,
   "id": "eb4b1aa9",
   "metadata": {},
   "outputs": [],
   "source": []
  },
  {
   "cell_type": "code",
   "execution_count": null,
   "id": "d7205ea2",
   "metadata": {},
   "outputs": [],
   "source": []
  },
  {
   "cell_type": "markdown",
   "id": "14f477fc",
   "metadata": {},
   "source": [
    "## Joins"
   ]
  },
  {
   "cell_type": "markdown",
   "id": "e288539d",
   "metadata": {},
   "source": [
    "![joins](media\\joins.png)"
   ]
  },
  {
   "cell_type": "code",
   "execution_count": null,
   "id": "6c085501",
   "metadata": {},
   "outputs": [],
   "source": []
  }
 ],
 "metadata": {
  "kernelspec": {
   "display_name": "Python [conda env:DIY]",
   "language": "python",
   "name": "conda-env-DIY-py"
  },
  "language_info": {
   "codemirror_mode": {
    "name": "ipython",
    "version": 3
   },
   "file_extension": ".py",
   "mimetype": "text/x-python",
   "name": "python",
   "nbconvert_exporter": "python",
   "pygments_lexer": "ipython3",
   "version": "3.9.12"
  }
 },
 "nbformat": 4,
 "nbformat_minor": 5
}
