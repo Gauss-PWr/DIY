{
 "cells": [
  {
   "cell_type": "markdown",
   "id": "71dd2df3",
   "metadata": {},
   "source": [
    "<img src=\"./media/doge_gif.gif\" width=500></img>"
   ]
  },
  {
   "cell_type": "markdown",
   "id": "e6d91e1f",
   "metadata": {},
   "source": [
    "# Data visualization principles\n",
    "\n",
    "---"
   ]
  },
  {
   "cell_type": "markdown",
   "id": "b9f9780d",
   "metadata": {},
   "source": [
    "\n",
    "Shachee Swadia, <em> The 5 Most Important Principles of Data Visualization </em>\n",
    "\n",
    "🔵 [https://towardsdatascience.com/the-5-most-important-principles-of-data-visualization-455225a6c4b3]"
   ]
  },
  {
   "cell_type": "markdown",
   "id": "14276999",
   "metadata": {},
   "source": [
    "<h3 style=\"text-align: center;\"> 1) Tell the truth </h3>\n",
    "\n",
    "<img src=\"./media/1.png\" width=500></img>"
   ]
  },
  {
   "cell_type": "markdown",
   "id": "cff4d469",
   "metadata": {},
   "source": [
    "<h3 style=\"text-align: center;\"> 2) Know your audience </h3>\n",
    "\n",
    "<img src=\"./media/2.png\" width=500></img>"
   ]
  },
  {
   "cell_type": "markdown",
   "id": "9552cf24",
   "metadata": {},
   "source": [
    "<h3 style=\"text-align: center;\"> 3) Choose the right chart </h3>\n",
    "\n",
    "<img src=\"./media/3.png\" width=500></img>"
   ]
  },
  {
   "cell_type": "markdown",
   "id": "25e9d241",
   "metadata": {},
   "source": [
    "<h3 style=\"text-align: center;\"> 4) Emphasize the important </h3>\n",
    "\n",
    "<img src=\"./media/4.png\" width=500></img>"
   ]
  },
  {
   "cell_type": "markdown",
   "id": "f6d595b5",
   "metadata": {},
   "source": [
    "<h3 style=\"text-align: center;\"> 5) Form should follow function </h3>\n",
    "\n",
    "<img src=\"./media/5.png\" width=500></img>"
   ]
  },
  {
   "cell_type": "markdown",
   "id": "8cc15476",
   "metadata": {},
   "source": [
    "# Imports\n",
    "\n",
    "---"
   ]
  },
  {
   "cell_type": "code",
   "execution_count": 1,
   "id": "d6256136",
   "metadata": {},
   "outputs": [],
   "source": [
    "import numpy as np  # ................. conda install numpy\n",
    "import pandas as pd  # ................ conda install pandas\n",
    "\n",
    "import seaborn as sns  # .............. conda install seaborn\n",
    "import matplotlib.pyplot as plt\n",
    "\n",
    "import plotly.express as px  # ........ conda install plotly \n",
    "import plotly.graph_objects as go\n",
    "\n",
    "from celluloid import Camera  # ....... conda install celluloid\n",
    "from IPython.display import HTML\n",
    "\n",
    "\n",
    "plt.rcParams.update({'font.size': 15, \n",
    "                     'figure.figsize': (13, 7)})"
   ]
  },
  {
   "cell_type": "markdown",
   "id": "af8d94c7",
   "metadata": {},
   "source": [
    "# Basic plots with `matplotlib`\n",
    "---\n"
   ]
  },
  {
   "cell_type": "code",
   "execution_count": null,
   "id": "c8ffec3f",
   "metadata": {},
   "outputs": [],
   "source": []
  },
  {
   "cell_type": "markdown",
   "id": "20814ac8",
   "metadata": {},
   "source": [
    "# Object-oriented plotting with `matplotlib`\n",
    "---"
   ]
  },
  {
   "cell_type": "code",
   "execution_count": null,
   "id": "28457391",
   "metadata": {},
   "outputs": [],
   "source": []
  },
  {
   "cell_type": "markdown",
   "id": "53778c47",
   "metadata": {},
   "source": [
    "# Basic animations with `Celluloid`\n",
    "\n",
    "---"
   ]
  },
  {
   "cell_type": "code",
   "execution_count": null,
   "id": "d2aff5a6",
   "metadata": {},
   "outputs": [],
   "source": []
  },
  {
   "cell_type": "code",
   "execution_count": null,
   "id": "3106bb11",
   "metadata": {},
   "outputs": [],
   "source": []
  },
  {
   "cell_type": "code",
   "execution_count": null,
   "id": "2d514db8",
   "metadata": {},
   "outputs": [],
   "source": []
  },
  {
   "cell_type": "code",
   "execution_count": null,
   "id": "04fd465e",
   "metadata": {},
   "outputs": [],
   "source": []
  },
  {
   "cell_type": "code",
   "execution_count": null,
   "id": "8825a4a8",
   "metadata": {},
   "outputs": [],
   "source": []
  },
  {
   "cell_type": "markdown",
   "id": "1ccb1deb",
   "metadata": {},
   "source": [
    "# `Seaborn` - working with dataframes\n",
    "\n",
    "---"
   ]
  },
  {
   "cell_type": "markdown",
   "id": "7330d69d",
   "metadata": {},
   "source": [
    "🔵 https://seaborn.pydata.org/examples/index.html"
   ]
  },
  {
   "cell_type": "code",
   "execution_count": null,
   "id": "9d88361e",
   "metadata": {},
   "outputs": [],
   "source": []
  },
  {
   "cell_type": "code",
   "execution_count": null,
   "id": "255fb410",
   "metadata": {},
   "outputs": [],
   "source": []
  },
  {
   "cell_type": "code",
   "execution_count": null,
   "id": "db2f291c",
   "metadata": {},
   "outputs": [],
   "source": []
  },
  {
   "cell_type": "code",
   "execution_count": null,
   "id": "ec54ab74",
   "metadata": {},
   "outputs": [],
   "source": []
  },
  {
   "cell_type": "code",
   "execution_count": null,
   "id": "add80c1f",
   "metadata": {},
   "outputs": [],
   "source": []
  },
  {
   "cell_type": "code",
   "execution_count": null,
   "id": "e7985335",
   "metadata": {},
   "outputs": [],
   "source": []
  },
  {
   "cell_type": "code",
   "execution_count": null,
   "id": "ecea57b9",
   "metadata": {},
   "outputs": [],
   "source": []
  },
  {
   "cell_type": "markdown",
   "id": "8340a898",
   "metadata": {},
   "source": [
    "# Interactive plots with `plotly`\n",
    "\n",
    "---"
   ]
  },
  {
   "cell_type": "markdown",
   "id": "094f6767",
   "metadata": {},
   "source": [
    "🔵 https://plotly.com/python/\n",
    "\n",
    "🔵 https://www.statworx.com/en/content-hub/blog/plotly-an-interactive-charting-library/  👇🏻👇🏻👇🏻"
   ]
  },
  {
   "cell_type": "markdown",
   "id": "c68a3122",
   "metadata": {},
   "source": [
    "<img src=\"./media/plotly-structure.png\" width = 700></img>"
   ]
  },
  {
   "cell_type": "code",
   "execution_count": null,
   "id": "c6a5b40b",
   "metadata": {},
   "outputs": [],
   "source": []
  },
  {
   "cell_type": "code",
   "execution_count": null,
   "id": "999ae0ea",
   "metadata": {},
   "outputs": [],
   "source": []
  },
  {
   "cell_type": "code",
   "execution_count": null,
   "id": "ca90e682",
   "metadata": {},
   "outputs": [],
   "source": []
  },
  {
   "cell_type": "code",
   "execution_count": null,
   "id": "622f25c4",
   "metadata": {},
   "outputs": [],
   "source": []
  },
  {
   "cell_type": "code",
   "execution_count": null,
   "id": "86a00554",
   "metadata": {},
   "outputs": [],
   "source": []
  }
 ],
 "metadata": {
  "kernelspec": {
   "display_name": "Python [conda env:DIY]",
   "language": "python",
   "name": "conda-env-DIY-py"
  },
  "language_info": {
   "codemirror_mode": {
    "name": "ipython",
    "version": 3
   },
   "file_extension": ".py",
   "mimetype": "text/x-python",
   "name": "python",
   "nbconvert_exporter": "python",
   "pygments_lexer": "ipython3",
   "version": "3.9.12"
  }
 },
 "nbformat": 4,
 "nbformat_minor": 5
}
